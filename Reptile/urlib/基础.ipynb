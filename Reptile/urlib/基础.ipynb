{
 "cells": [
  {
   "cell_type": "code",
   "execution_count": 72,
   "metadata": {},
   "outputs": [],
   "source": [
    "#urllib2.urlopen()变成了urllib.request.urlopen()\n",
    "#urllib2.Request()变成了urllib.request.Request()\n",
    "#因此，python3.x得版本中可以使用urllib.request库；\n",
    "#但是在python2.7的库中，还是得使用urllib2.urlopen\n",
    "# https://docs.python.org/zh-cn/3/library/urllib.request.html urllib文档\n",
    "import urllib\n",
    "import urllib.request\n",
    "data=urllib.request.urlopen(\"http://www.baidu.com\").read().decode(\"utf-8\",\"ignore\")\n",
    "##输出请求结果长度\n",
    "len(data)\n",
    "\n",
    "import re\n",
    "\n",
    "pat=\"<title>(.*?)</title>\"\n",
    "#爬虫标题\n",
    "re.compile(pat,re.S).findall(data)\n",
    "import os\n",
    "\n",
    "#创建空文件\n",
    "file = open('jd.html','w')\n",
    "file.close()\n",
    "\n",
    "#将网页内容抓取保存\n",
    "#urllib.request.urlretrieve(\"https://www.qiushibaike.com/\",filename=\"jd.html\")\n",
    "\n"
   ]
  },
  {
   "cell_type": "code",
   "execution_count": 86,
   "metadata": {},
   "outputs": [],
   "source": [
    "#浏览器伪装\n",
    "opener=urllib.request.build_opener()\n",
    "UA=(\"User-Agent\",\"Mozilla/5.0\")\n",
    "opener.addheaders=[UA]\n",
    "urllib.request.install_opener(opener)\n",
    "data=urllib.request.urlopen(\"http://www.baidu.com\").read().decode(\"utf-8\",\"ignore\")\n"
   ]
  },
  {
   "cell_type": "code",
   "execution_count": 23,
   "metadata": {},
   "outputs": [
    {
     "name": "stdout",
     "output_type": "stream",
     "text": [
      "name=%E5%BC%A0&age=8\n",
      "Date: Sat, 15 Feb 2020 03:03:14 GMT\n",
      "Content-Type: application/json\n",
      "Content-Length: 574\n",
      "Connection: close\n",
      "Server: gunicorn/19.9.0\n",
      "Access-Control-Allow-Origin: *\n",
      "Access-Control-Allow-Credentials: true\n",
      "\n",
      "\n",
      "b'{\\n  \"args\": {}, \\n  \"data\": \"\", \\n  \"files\": {}, \\n  \"form\": {\\n    \"age\": \"8\", \\n    \"name\": \"\\\\u5f20\"\\n  }, \\n  \"headers\": {\\n    \"Accept-Encoding\": \"identity\", \\n    \"Content-Length\": \"20\", \\n    \"Content-Type\": \"application/x-www-form-urlencoded\", \\n    \"Host\": \"httpbin.org\", \\n    \"User-Agent\": \"\\\\\"Mozilla/5.0 (Macintosh; Intel Mac OS X 10_15_2) AppleWebKit/537.36 (KHTML, like Gecko) Chrome/79.0.3945.130 Safari/537.36\\\\\"\", \\n    \"X-Amzn-Trace-Id\": \"Root=1-5e475f72-81900079f9dac6921c6af81c\"\\n  }, \\n  \"json\": null, \\n  \"origin\": \"39.149.80.140\", \\n  \"url\": \"http://httpbin.org/post\"\\n}\\n'\n"
     ]
    }
   ],
   "source": [
    "from urllib import parse\n",
    "from urllib.request import urlopen ,Request\n",
    "\n",
    "# d={\n",
    "#     'q':\"教育\"\n",
    "# }\n",
    "# base_url=\"http://www.baidu.com\"\n",
    "# u=parse.urlencode(d)\n",
    "# url='{}?{}'.format(base_url,u)\n",
    "# print(url)\n",
    "# print(parse.unquote(url))\n",
    "\n",
    "url='http://httpbin.org/post' #post请求测试\n",
    "data=parse.urlencode({\"name\":\"张\",\"age\":\"8\"})\n",
    "print(data)\n",
    "ua='\"Mozilla/5.0 (Macintosh; Intel Mac OS X 10_15_2) AppleWebKit/537.36 (KHTML, like Gecko) Chrome/79.0.3945.130 Safari/537.36\"'\n",
    "\n",
    "req=Request(url,headers={ \"User-Agent\":ua})\n",
    "\n",
    "with urlopen(req,data=data.encode()) as res:\n",
    "    print(res.headers)\n",
    "    print(res.read())\n",
    "\n",
    "\n",
    "\n",
    "\n",
    "\n"
   ]
  },
  {
   "cell_type": "code",
   "execution_count": null,
   "metadata": {},
   "outputs": [],
   "source": [
    "\n",
    "\n",
    "\n",
    "\n",
    "\n"
   ]
  },
  {
   "cell_type": "code",
   "execution_count": null,
   "metadata": {},
   "outputs": [],
   "source": []
  }
 ],
 "metadata": {
  "kernelspec": {
   "display_name": "Python 3",
   "language": "python",
   "name": "python3"
  },
  "language_info": {
   "codemirror_mode": {
    "name": "ipython",
    "version": 3
   },
   "file_extension": ".py",
   "mimetype": "text/x-python",
   "name": "python",
   "nbconvert_exporter": "python",
   "pygments_lexer": "ipython3",
   "version": "3.6.8"
  }
 },
 "nbformat": 4,
 "nbformat_minor": 2
}
