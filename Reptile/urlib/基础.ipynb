{
 "cells": [
  {
   "cell_type": "code",
   "execution_count": 72,
   "metadata": {},
   "outputs": [],
   "source": [
    "#urllib2.urlopen()变成了urllib.request.urlopen()\n",
    "#urllib2.Request()变成了urllib.request.Request()\n",
    "#因此，python3.x得版本中可以使用urllib.request库；\n",
    "#但是在python2.7的库中，还是得使用urllib2.urlopen\n",
    "# https://docs.python.org/zh-cn/3/library/urllib.request.html urllib文档\n",
    "import urllib\n",
    "import urllib.request\n",
    "data=urllib.request.urlopen(\"http://www.baidu.com\").read().decode(\"utf-8\",\"ignore\")\n",
    "##输出请求结果长度\n",
    "len(data)\n",
    "\n",
    "import re\n",
    "\n",
    "pat=\"<title>(.*?)</title>\"\n",
    "#爬虫标题\n",
    "re.compile(pat,re.S).findall(data)\n",
    "import os\n",
    "\n",
    "#创建空文件\n",
    "file = open('jd.html','w')\n",
    "file.close()\n",
    "\n",
    "#将网页内容抓取保存\n",
    "#urllib.request.urlretrieve(\"https://www.qiushibaike.com/\",filename=\"jd.html\")\n",
    "\n"
   ]
  },
  {
   "cell_type": "code",
   "execution_count": 86,
   "metadata": {},
   "outputs": [],
   "source": [
    "#浏览器伪装\n",
    "opener=urllib.request.build_opener()\n",
    "UA=(\"User-Agent\",\"Mozilla/5.0\")\n",
    "opener.addheaders=[UA]\n",
    "urllib.request.install_opener(opener)\n",
    "data=urllib.request.urlopen(\"http://www.baidu.com\").read().decode(\"utf-8\",\"ignore\")\n"
   ]
  },
  {
   "cell_type": "code",
   "execution_count": null,
   "metadata": {},
   "outputs": [],
   "source": []
  },
  {
   "cell_type": "code",
   "execution_count": null,
   "metadata": {},
   "outputs": [],
   "source": []
  }
 ],
 "metadata": {
  "kernelspec": {
   "display_name": "Python 3",
   "language": "python",
   "name": "python3"
  },
  "language_info": {
   "codemirror_mode": {
    "name": "ipython",
    "version": 3
   },
   "file_extension": ".py",
   "mimetype": "text/x-python",
   "name": "python",
   "nbconvert_exporter": "python",
   "pygments_lexer": "ipython3",
   "version": "3.6.8"
  }
 },
 "nbformat": 4,
 "nbformat_minor": 2
}
