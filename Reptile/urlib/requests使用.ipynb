{
 "cells": [
  {
   "cell_type": "code",
   "execution_count": 34,
   "metadata": {},
   "outputs": [
    {
     "name": "stdout",
     "output_type": "stream",
     "text": [
      "ISO-8859-1\n",
      "text/html\n",
      "['百度一下，你就知道']\n",
      "https://www.baidu.com/\n"
     ]
    }
   ],
   "source": [
    "import requests\n",
    "import re\n",
    "#xxget  headers,cookies\n",
    "hd={\"user-agent\":'Mozilla/5.0 (Macintosh; Intel Mac OS X 10_15_2) AppleWebKit/537.36 (KHTML, like Gecko) Chrome/79.0.3945.130 Safari/537.36'}\n",
    "#headers伪装浏览器  proxies添加代理，cookies添加cookies\n",
    "\n",
    "resp=requests.get(\"http://www.baidu.com\",headers=hd)\n",
    "\n",
    "\n",
    "#输出响应编码\n",
    "print(resp.encoding)\n",
    "#使用utf-8编码\n",
    "resp.encoding='utf-8'\n",
    "print(resp.headers['content-type'])\n",
    "\n",
    "pat=\"<title>(.*?)</title>\"\n",
    "title=re.compile(pat,re.S).findall(resp.text)\n",
    "\n",
    "print(title)\n",
    "print(resp.url)\n",
    "\n",
    "#print(eval('u\"'+str(title)+'\"'))\n"
   ]
  },
  {
   "cell_type": "code",
   "execution_count": 83,
   "metadata": {
    "scrolled": true
   },
   "outputs": [
    {
     "name": "stdout",
     "output_type": "stream",
     "text": [
      "2218\n",
      "True\n",
      "------正在爬第1页-------\n",
      "Python多版本管理器pyenv https://yq.aliyun.com//articles/743349\n",
      "第 429 期 Python 周刊 https://yq.aliyun.com//articles/742407\n",
      "第 428 期 Python 周刊 https://yq.aliyun.com//articles/742309\n",
      "第 427 期 Python 周刊 https://yq.aliyun.com//articles/742098\n",
      "第 426 期 Python 周刊 https://yq.aliyun.com//articles/741635\n",
      "第 425 期 Python 周刊 https://yq.aliyun.com//articles/741402\n",
      "业界疑问，JuliaSet会取代Python吗？ https://yq.aliyun.com//articles/741620\n",
      "第423期 Python 周刊 https://yq.aliyun.com//articles/740443\n",
      "Linux 安装Python3 https://yq.aliyun.com//articles/740103\n",
      "Python解析excel——openpyxl https://yq.aliyun.com//articles/740128\n",
      "第 422期 Python 周刊  https://yq.aliyun.com//articles/740116\n",
      "第421期 Python 周刊 https://yq.aliyun.com//articles/739873\n",
      "第420期 Python 周刊 https://yq.aliyun.com//articles/739710\n",
      "Python Weekly 419 https://yq.aliyun.com//articles/739123\n",
      "Python 周刊第 418 期 https://yq.aliyun.com//articles/738292\n"
     ]
    }
   ],
   "source": [
    "#云栖社区抓取\n",
    "import requests\n",
    "import re\n",
    "\n",
    "key=\"python\"\n",
    "url=\"https://yq.aliyun.com/search/articles/?p=1\"\n",
    "data=requests.get(url,params={\"q\":key}).text\n",
    "pat1='<div class=\"_search-info\">找到(.*?)条关于'\n",
    "#解析搜索结果总条数（一页15条）\n",
    "alllines=re.compile(pat1,re.S).findall(data)[0]\n",
    "allpages=int(alllines)//15+1\n",
    "print(allpages)\n",
    "#print(data)\n",
    "import os\n",
    "path=\"./data\"\n",
    "print(os.path.exists(path))\n",
    "if not os.path.exists(path):\n",
    "    os.makedirs(path)\n",
    "    print(1)\n",
    "for i in range(0,1):\n",
    "    print(\"------正在爬第\"+str(i+1)+\"页-------\")\n",
    "    index=str(i+1)\n",
    "    getdata={\"q\":key,\"p\":index}\n",
    "    data=requests.get(url,params=getdata).text\n",
    "    pat_url='<div class=\"media-body text-overflow\">.*?<a href=\"(.*?)\">'\n",
    "    articles=re.compile(pat_url,re.S).findall(data)\n",
    "    #print(articles)\n",
    "    \n",
    "    for j in articles:\n",
    "        thisurl=\"https://yq.aliyun.com/\"+j\n",
    "        thisdata=requests.get(thisurl).text\n",
    "        pat_title='<p class=\"hiddenTitle\">(.*?)</p>'\n",
    "        pat_content='<div class=\"content-detail unsafe markdown-body\">(.*?)</div>'\n",
    "        title=re.compile(pat_title,re.S).findall(thisdata)[0]\n",
    "        content=re.compile(pat_content,re.S).findall(thisdata)[0]\n",
    "        print(title +\" \"+thisurl)\n",
    "        fh=open(\"./data/\"+str(i)+title+\".html\",\"w\",encoding=\"utf-8\")\n",
    "        fh.write(title+\"<br/><br/>\"+content)\n",
    "        fh.close()\n"
   ]
  },
  {
   "cell_type": "code",
   "execution_count": null,
   "metadata": {},
   "outputs": [],
   "source": [
    "https://search.51job.com/list/080200,000000,0000,00,9,99,java,2,1.html?lang=c&stype=&postchannel=0000&workyear=99&cotype=99&degreefrom=99&jobterm=99&companysize=99&providesalary=99&lonlat=0%2C0&radius=-1&ord_field=0&confirmdate=9&fromType=&dibiaoid=0&address=&line=&specialarea=00&from=&welfare=\n",
    "    \n",
    "    "
   ]
  }
 ],
 "metadata": {
  "kernelspec": {
   "display_name": "Python 3",
   "language": "python",
   "name": "python3"
  },
  "language_info": {
   "codemirror_mode": {
    "name": "ipython",
    "version": 3
   },
   "file_extension": ".py",
   "mimetype": "text/x-python",
   "name": "python",
   "nbconvert_exporter": "python",
   "pygments_lexer": "ipython3",
   "version": "3.6.8"
  }
 },
 "nbformat": 4,
 "nbformat_minor": 2
}
