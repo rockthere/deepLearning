{
 "cells": [
  {
   "cell_type": "code",
   "execution_count": 33,
   "metadata": {},
   "outputs": [
    {
     "name": "stdout",
     "output_type": "stream",
     "text": [
      "ISO-8859-1\n",
      "text/html\n",
      "['百度一下，你就知道']\n"
     ]
    }
   ],
   "source": [
    "import requests\n",
    "import re\n",
    "#xxget  headers,cookies\n",
    "hd={\"user-agent\":'Mozilla/5.0 (Macintosh; Intel Mac OS X 10_15_2) AppleWebKit/537.36 (KHTML, like Gecko) Chrome/79.0.3945.130 Safari/537.36'}\n",
    "#headers伪装浏览器  proxies添加代理，cookies添加cookies\n",
    "\n",
    "resp=requests.get(\"http://www.baidu.com\",headers=hd)\n",
    "\n",
    "\n",
    "#输出响应编码\n",
    "print(resp.encoding)\n",
    "#使用utf-8编码\n",
    "resp.encoding='utf-8'\n",
    "print(resp.headers['content-type'])\n",
    "\n",
    "pat=\"<title>(.*?)</title>\"\n",
    "title=re.compile(pat,re.S).findall(resp.text)\n",
    "\n",
    "print(title)\n",
    "\n",
    "#print(eval('u\"'+str(title)+'\"'))\n"
   ]
  },
  {
   "cell_type": "code",
   "execution_count": null,
   "metadata": {},
   "outputs": [],
   "source": []
  },
  {
   "cell_type": "code",
   "execution_count": null,
   "metadata": {},
   "outputs": [],
   "source": []
  }
 ],
 "metadata": {
  "kernelspec": {
   "display_name": "Python 3",
   "language": "python",
   "name": "python3"
  },
  "language_info": {
   "codemirror_mode": {
    "name": "ipython",
    "version": 3
   },
   "file_extension": ".py",
   "mimetype": "text/x-python",
   "name": "python",
   "nbconvert_exporter": "python",
   "pygments_lexer": "ipython3",
   "version": "3.6.8"
  }
 },
 "nbformat": 4,
 "nbformat_minor": 2
}
