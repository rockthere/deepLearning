{
 "cells": [
  {
   "cell_type": "code",
   "execution_count": 2,
   "metadata": {},
   "outputs": [],
   "source": [
    "# XPath技术是一门在 XML 文档中查找信息的语言。XPath 可用来在 XML 文档中对元素和属性进行遍历\n",
    "# nodename\t选取此节点的所有子节点。\n",
    "# /\t从根节点选取。\n",
    "# //\t从匹配选择的当前节点选择文档中的节点，而不考虑它们的位置。\n",
    "# .\t选取当前节点。\n",
    "# ..\t选取当前节点的父节点。\n",
    "# @\t选取属性。\n",
    "# /bookstore/book[1]\t选取属于 bookstore 子元素的第一个 book 元素。\n",
    "# /bookstore/book[last()]\t选取属于 bookstore 子元素的最后一个 book 元素。\n",
    "# /bookstore/book[last()-1]\t选取属于 bookstore 子元素的倒数第二个 book 元素。\n",
    "# /bookstore/book[position()<3]\t选取最前面的两个属于 bookstore 元素的子元素的 book 元素。\n",
    "# //title[@lang]\t选取所有拥有名为 lang 的属性的 title 元素。\n",
    "# //title[@lang='eng']\t选取所有 title 元素，且这些元素拥有值为 eng 的 lang 属性。\n",
    "# /bookstore/book[price>35.00]\t选取 bookstore 元素的所有 book 元素，且其中的 price 元素的值须大于 35.00。\n",
    "# /bookstore/book[price>35.00]/title\t选取 bookstore 元素中的 book 元素的所有 title 元素，且其中的 price 元素的值须大于 35.00。"
   ]
  },
  {
   "cell_type": "code",
   "execution_count": null,
   "metadata": {},
   "outputs": [],
   "source": []
  }
 ],
 "metadata": {
  "kernelspec": {
   "display_name": "Python 3",
   "language": "python",
   "name": "python3"
  },
  "language_info": {
   "codemirror_mode": {
    "name": "ipython",
    "version": 3
   },
   "file_extension": ".py",
   "mimetype": "text/x-python",
   "name": "python",
   "nbconvert_exporter": "python",
   "pygments_lexer": "ipython3",
   "version": "3.6.8"
  }
 },
 "nbformat": 4,
 "nbformat_minor": 2
}
