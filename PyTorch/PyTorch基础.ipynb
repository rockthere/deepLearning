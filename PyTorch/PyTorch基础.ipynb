{
 "cells": [
  {
   "cell_type": "code",
   "execution_count": 1,
   "metadata": {},
   "outputs": [
    {
     "name": "stdout",
     "output_type": "stream",
     "text": [
      "[[-1  0  1]\n",
      " [ 2  3  4]] \n",
      "-1  0  1\n",
      " 2  3  4\n",
      "[torch.IntTensor of size 2x3]\n",
      " [[-1  0  1]\n",
      " [ 2  3  4]]\n"
     ]
    }
   ],
   "source": [
    "#PyTorch是Torch在python的衍生，Torch是使用Lua语言的神经网络库，PyTorch 说他就是在神经网络领域可以用来替换 numpy 的模块\n",
    "#最大优点就是建立的神经网络是动态的，静态Tensorflow（分布式训练）,\n",
    "#torch 产生的 tensor 放在 GPU 中加速运算，Numpy 会把 array 放在 CPU 中加速运算\n",
    "\n",
    "#转换\n",
    "import torch\n",
    "import numpy as np\n",
    "%matlplotlib inline\n",
    "import torch.nn.functional as F\n",
    "np_data=np.arange(-1,5).reshape((2,3))\n",
    "torch_data=torch.from_numpy(np_data)\n",
    "tensor2array=torch_data.numpy()\n",
    "\n",
    "print(np_data,torch_data,tensor2array)\n",
    "\n"
   ]
  },
  {
   "cell_type": "code",
   "execution_count": 2,
   "metadata": {},
   "outputs": [
    {
     "name": "stdout",
     "output_type": "stream",
     "text": [
      "[[1 0 1]\n",
      " [2 3 4]] \n",
      " 1  0  1\n",
      " 2  3  4\n",
      "[torch.IntTensor of size 2x3]\n",
      "\n"
     ]
    }
   ],
   "source": [
    "#abs求绝对值\n",
    "print(np.abs(np_data),torch.abs(torch_data))\n",
    "\n",
    "#mean  求均值"
   ]
  },
  {
   "cell_type": "code",
   "execution_count": 3,
   "metadata": {},
   "outputs": [
    {
     "name": "stdout",
     "output_type": "stream",
     "text": [
      "[[ 7 10]\n",
      " [15 22]]\n",
      "\n",
      "  7  10\n",
      " 15  22\n",
      "[torch.FloatTensor of size 2x2]\n",
      "\n",
      "[[ 7 10]\n",
      " [15 22]]\n"
     ]
    }
   ],
   "source": [
    "data=[[1,2],[3,4]]\n",
    "#转成32位浮点tensor\n",
    "tensor=torch.FloatTensor(data)\n",
    "#矩阵乘法\n",
    "print(np.matmul(data,data))\n",
    "print(torch.matmul(tensor,tensor))\n",
    "\n",
    "data = np.array(data)\n",
    "#点乘\n",
    "print(data.dot(data))\n"
   ]
  },
  {
   "cell_type": "code",
   "execution_count": 4,
   "metadata": {},
   "outputs": [
    {
     "name": "stdout",
     "output_type": "stream",
     "text": [
      "Variable containing:\n",
      " 1  2\n",
      " 3  4\n",
      "[torch.FloatTensor of size 2x2]\n",
      "\n",
      "\n",
      "梯度： Variable containing:\n",
      " 0.5000  1.0000\n",
      " 1.5000  2.0000\n",
      "[torch.FloatTensor of size 2x2]\n",
      "\n",
      "\n",
      " 7.5 Variable containing:\n",
      " 7.5000\n",
      "[torch.FloatTensor of size 1]\n",
      "\n",
      "tensor 形式 \n",
      " 1  2\n",
      " 3  4\n",
      "[torch.FloatTensor of size 2x2]\n",
      "\n",
      "numpy 形式 [[ 1.  2.]\n",
      " [ 3.  4.]]\n"
     ]
    }
   ],
   "source": [
    "#Variable存放的值是变化的\n",
    "\n",
    "from torch.autograd import Variable # torch 中 Variable 模块\n",
    "\n",
    "# requires_grad是参不参与误差反向传播, 要不要计算梯度\n",
    "variable = Variable(tensor, requires_grad=True)\n",
    "print(variable)\n",
    "\n",
    "#求均值\n",
    "t_m=torch.mean(tensor*tensor)\n",
    "v_m=torch.mean(variable*variable)\n",
    "#上面计算其实等价下面计算\n",
    "#v_m=1/4*sum(variable*variable)\n",
    "\n",
    "\n",
    "#对上面反向求梯度\n",
    "#v_m_g=1/4*2*variable=1/2*variable\n",
    "#通过上面计算也就求的响应的梯度值\n",
    "#v_m的误差反向传递\n",
    "v_m.backward()\n",
    "print('\\n梯度：',variable.grad)\n",
    "print('\\n',t_m,v_m)\n",
    "\n",
    "\n",
    "print('tensor 形式',variable.data)\n",
    "\n",
    "print('numpy 形式',variable.data.numpy())"
   ]
  },
  {
   "cell_type": "code",
   "execution_count": 5,
   "metadata": {},
   "outputs": [
    {
     "data": {
      "image/png": "[encoded data removed]",
      "text/plain": [
       "<matplotlib.figure.Figure at 0x865dc88>"
      ]
     },
     "metadata": {},
     "output_type": "display_data"
    }
   ],
   "source": [
    "#激励函数activation function\n",
    "#要确保的是这些激励函数必须是可以微分的, 因为在 backpropagation 误差反向传递的时候, 只有这些可微分的激励函数才能把误差传递回去\n",
    "#选取时需要注意梯度爆炸，梯度消失\n",
    "#卷积神经网络推荐用relu，循环神经网络推荐用tanh,relu\n",
    "\n",
    "#常用的几种激励函数\n",
    "import matplotlib.pyplot as plt\n",
    "\n",
    "x=torch.linspace(-5,5,250)\n",
    "x=Variable(x)\n",
    "n_num=x.data.numpy()\n",
    "\n",
    "y_relu=torch.nn.functional.relu(x).data.numpy()\n",
    "y_sigmoid=torch.nn.functional.sigmoid(x).data.numpy()\n",
    "y_tanh=torch.nn.functional.tanh(x).data.numpy()\n",
    "y_softplus=torch.nn.functional.softplus(x).data.numpy()\n",
    "\n",
    "\n",
    "plt.figure()\n",
    "\n",
    "    \n",
    "    \n",
    "plt.subplot(2,2,1)\n",
    "plt.plot(n_num,y_relu,label='relu')\n",
    "plt.legend(loc='best')\n",
    "# ax=plt.gca()\n",
    "# ax.spines['left'].set_position(('data',0))\n",
    "\n",
    "plt.subplot(2,2,2)\n",
    "plt.plot(n_num,y_sigmoid,label='sigmoid')\n",
    "plt.legend(loc='best')\n",
    "\n",
    "plt.subplot(2,2,3)\n",
    "plt.plot(n_num,y_tanh,label='tanh')\n",
    "plt.legend(loc='best')\n",
    "\n",
    "plt.subplot(2,2,4)\n",
    "plt.plot(n_num,y_softplus,label='softplus')\n",
    "plt.legend(loc='best')\n",
    "\n",
    "\n",
    "plt.show()\n",
    "\n"
   ]
  },
  {
   "cell_type": "code",
   "execution_count": 15,
   "metadata": {},
   "outputs": [
    {
     "data": {
      "image/png": "[encoded data removed]",
      "text/plain": [
       "<matplotlib.figure.Figure at 0x9779358>"
      ]
     },
     "metadata": {},
     "output_type": "display_data"
    },
    {
     "name": "stdout",
     "output_type": "stream",
     "text": [
      "Net (\n",
      "  (hidden): Linear (1 -> 10)\n",
      "  (predict): Linear (10 -> 1)\n",
      ")\n"
     ]
    },
    {
     "data": {
      "image/png": "[encoded data removed]",
      "text/plain": [
       "<matplotlib.figure.Figure at 0x49f2160>"
      ]
     },
     "metadata": {},
     "output_type": "display_data"
    }
   ],
   "source": [
    "#关系拟合（回归）\n",
    "\n",
    "#数据模拟\n",
    "#数据100*1，如果dim设置0数据是1*100\n",
    "x=torch.unsqueeze(torch.linspace(-1,1,100),dim=1)\n",
    "y=x.pow(2)+0.2*torch.rand(x.size())\n",
    "\n",
    "x,y=Variable(x),Variable(y)\n",
    "\n",
    "\n",
    "plt.scatter(x.data.numpy(),y.data.numpy())\n",
    "plt.show()\n",
    "\n",
    "\n",
    "#建立神经网络\n",
    "\n",
    "class Net(torch.nn.Module):# 继承 torch 的 Module\n",
    "    def __init__(self,n_feature,n_hidden,n_output):\n",
    "        super(Net,self).__init__()#继承__init__功能\n",
    "        #定义每层用什么形式\n",
    "        \n",
    "        #隐藏层线性输出\n",
    "        self.hidden=torch.nn.Linear(n_feature,n_hidden)\n",
    "        \n",
    "        #输出层线性输出\n",
    "        self.predict=torch.nn.Linear(n_hidden,n_output)\n",
    "        \n",
    "     # 这同时也是 Module 中的 forward 功能\n",
    "    def forward(self,x):\n",
    "        #正向传播输入值，神经网络输出值\n",
    "        \n",
    "        #激励函数（隐藏层线性值）\n",
    "        x=F.relu(self.hidden(x))\n",
    "        #输出值\n",
    "        x=self.predict(x)\n",
    "        return x\n",
    "    \n",
    "net=Net(n_feature=1,n_hidden=10,n_output=1)\n",
    "\n",
    "print(net)\n",
    "            \n",
    "#训练网络\n",
    "#optimizer是训练的工具\n",
    "#需传入 net 的所有参数, 学习率\n",
    "optimizer=torch.optim.SGD(net.parameters(),lr=0.5)\n",
    "\n",
    "#损失函数预测值和真实值的误差计算公式 (均方差)\n",
    "loss_func=torch.nn.MSELoss()\n",
    "\n",
    "\n",
    "plt.ion()   # 画图\n",
    "plt.show()\n",
    "for t in range(100):\n",
    "    #传训练数据x,输出预测值\n",
    "    prediction=net(x)\n",
    "    \n",
    "    #计算误差\n",
    "    loss=loss_func(prediction,y)\n",
    "    # 清空上一步的残余更新参数值\n",
    "    optimizer.zero_grad()\n",
    "    \n",
    "    # 误差反向传播, 计算参数更新值\n",
    "    loss.backward()\n",
    "    \n",
    "    # 将参数更新值施加到 net 的 parameters 上\n",
    "    optimizer.step()\n",
    "    if t %5==0:\n",
    "        \n",
    "        plt.cla()\n",
    "        plt.scatter(x.data.numpy(),y.data.numpy())\n",
    "        plt.plot(x.data.numpy(),prediction.data.numpy(),'r--',lw=5)\n",
    "        plt.text(0.5,0,'Loss%.4f'%loss.data[0],fontdict={'size':20,'color':'red'})\n",
    "        plt.pause(0.1)\n",
    "        plt.ioff()\n",
    "        plt.show()\n",
    "    \n"
   ]
  },
  {
   "cell_type": "code",
   "execution_count": null,
   "metadata": {
    "collapsed": true
   },
   "outputs": [],
   "source": []
  }
 ],
 "metadata": {
  "kernelspec": {
   "display_name": "Python 3",
   "language": "python",
   "name": "python3"
  },
  "language_info": {
   "codemirror_mode": {
    "name": "ipython",
    "version": 3
   },
   "file_extension": ".py",
   "mimetype": "text/x-python",
   "name": "python",
   "nbconvert_exporter": "python",
   "pygments_lexer": "ipython3",
   "version": "3.6.6"
  }
 },
 "nbformat": 4,
 "nbformat_minor": 2
}
