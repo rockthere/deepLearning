{
 "cells": [
  {
   "cell_type": "markdown",
   "metadata": {},
   "source": [
    "# 安装\n",
    "conda install -c peterjc123 pytorch=0.1.12\n",
    "pytorch是一个动态的建图的工具。\n",
    "Tensor： 就像ndarray一样,一维Tensor叫Vector，二维Tensor叫Matrix，三维及以上称为Tensor\n",
    "Variable：是Tensor的一个wrapper，不仅保存了值，而且保存了这个值的creator，需要BP的网络都是Variable参与运算"
   ]
  },
  {
   "cell_type": "code",
   "execution_count": 25,
   "metadata": {},
   "outputs": [],
   "source": [
    "from __future__ import print_function\n",
    "import matplotlib.pyplot as plt\n",
    "import torch as th\n",
    "import numpy as np\n",
    "from torch.autograd import Variable\n",
    "\n",
    "def train(x,y,w1,w2,b1,b2):\n",
    "    optimizer=th.optim.Adam([w1,w2,b1,b2],lr=0.01)\n",
    "    def closure():\n",
    "        optimizer.zero_grad()\n",
    "        hid=th.tanh(x.mm(w1)+b1.expand(x.size()[0],b1.size()[1]))\n",
    "        y_pred=hid.mm(w2)+b2.expand(x.size()[0],b2.size()[1])\n",
    "        loss=(y_pred-y).pow(2).sum()\n",
    "        loss.backward()\n",
    "        return loss\n",
    "    \n",
    "    for t in range(20000):\n",
    "        if t% 1000==0:\n",
    "                print(t,closure().data[0])\n",
    "        optimizer.step(closure)\n",
    "        \n",
    "        \n",
    "def forward(x,w1,w2,b1,b2):\n",
    "    hid=th.tanh(x.mm(w1)+b1.expand(x.size()[0],b1.size()[1]))\n",
    "    return hid.mm(w2)+b2.expand(x.size()[0],b2.size()[1])\n",
    "\n",
    "def get_variables(M):\n",
    "    \n",
    "    w1=Variable(th.randn(1,M).type(th.FloatTensor),requires_grad=True)\n",
    "    w2=Variable(th.randn(M,1).type(th.FloatTensor),requires_grad=True)\n",
    "    b1=Variable(th.zeros(1,M).type(th.FloatTensor),requires_grad=True)\n",
    "    b2=Variable(th.zeros(1,1).type(th.FloatTensor),requires_grad=True)\n",
    "    return w1,w2,b1,b2\n",
    "\n"
   ]
  },
  {
   "cell_type": "code",
   "execution_count": 26,
   "metadata": {},
   "outputs": [
    {
     "name": "stdout",
     "output_type": "stream",
     "text": [
      "0 12.808391571044922\n",
      "1000 1.0977534055709839\n",
      "2000 1.0378190279006958\n",
      "3000 1.0251578092575073\n",
      "4000 1.0208635330200195\n",
      "5000 1.019243836402893\n",
      "6000 1.0186716318130493\n",
      "7000 1.0185102224349976\n",
      "8000 1.0184816122055054\n",
      "9000 1.0184794664382935\n",
      "10000 1.0184794664382935\n",
      "11000 1.0184800624847412\n",
      "12000 1.0184794664382935\n",
      "13000 1.0184794664382935\n",
      "14000 1.0184794664382935\n",
      "15000 1.0184794664382935\n",
      "16000 1.0184794664382935\n",
      "17000 1.0184794664382935\n",
      "18000 1.018479585647583\n",
      "19000 1.0184794664382935\n",
      "0 7.75673770904541\n",
      "1000 0.16263416409492493\n",
      "2000 0.13099312782287598\n",
      "3000 0.12742386758327484\n",
      "4000 0.12636110186576843\n",
      "5000 0.12570413947105408\n",
      "6000 0.12523527443408966\n",
      "7000 0.12488379329442978\n",
      "8000 0.1246304139494896\n",
      "9000 0.12442313134670258\n",
      "10000 0.12429133802652359\n",
      "11000 0.1241912990808487\n",
      "12000 0.12413321435451508\n",
      "13000 0.12409278005361557\n",
      "14000 0.124068982899189\n",
      "15000 0.1240522488951683\n",
      "16000 0.12405377626419067\n",
      "17000 0.12399225682020187\n",
      "18000 0.12323117256164551\n",
      "19000 0.11945993453264236\n",
      "0 99.66604614257812\n",
      "1000 0.22102221846580505\n",
      "2000 0.15360262989997864\n",
      "3000 0.09944811463356018\n",
      "4000 0.08973179757595062\n",
      "5000 0.08717334270477295\n",
      "6000 0.08486948907375336\n",
      "7000 0.08249063789844513\n",
      "8000 0.08137408643960953\n",
      "9000 0.07719127088785172\n",
      "10000 0.0749969556927681\n",
      "11000 0.07331401854753494\n",
      "12000 0.07197939604520798\n",
      "13000 0.07083504647016525\n",
      "14000 0.06997552514076233\n",
      "15000 0.06879997253417969\n",
      "16000 0.06786725670099258\n",
      "17000 0.06703910231590271\n",
      "18000 0.06636007875204086\n",
      "19000 0.06580626964569092\n"
     ]
    }
   ],
   "source": [
    "#生成训练数据\n",
    "x=np.arange(0,np.pi*2,np.pi/5)\n",
    "tmp=np.array([1 if i%2==0 else -1 for i in range(10)])\n",
    "y=np.sin(x)+tmp*np.abs(np.random.normal(0,0.15,[10]))\n",
    "\n",
    "input_layer=Variable(th.from_numpy(x.reshape(x.shape+(1,))).type(th.FloatTensor),requires_grad=False)\n",
    "output_layer = Variable(th.from_numpy(y.reshape(y.shape + (1,))).type(th.FloatTensor), requires_grad=False)\n",
    "\n",
    "\n",
    "case1 = get_variables(1)\n",
    "case2 = get_variables(3)\n",
    "case3 = get_variables(10)\n",
    "\n",
    "train(input_layer, output_layer, *case1)\n",
    "train(input_layer, output_layer, *case2)\n",
    "train(input_layer, output_layer, *case3)\n"
   ]
  },
  {
   "cell_type": "code",
   "execution_count": 29,
   "metadata": {},
   "outputs": [
    {
     "data": {
      "image/png": "[encoded data removed]",
      "text/plain": [
       "<matplotlib.figure.Figure at 0x9bae828>"
      ]
     },
     "metadata": {},
     "output_type": "display_data"
    }
   ],
   "source": [
    "# \n",
    "ix=np.arange(0,np.pi*2,np.pi/100)\n",
    "ix2d=Variable(th.from_numpy(ix.reshape(ix.shape+(1,))).type(th.FloatTensor),requires_grad=False)\n",
    "\n",
    "y1=forward(ix2d,*case1)\n",
    "y2=forward(ix2d,*case2)\n",
    "y3=forward(ix2d,*case3)\n",
    "\n",
    "fig=plt.figure()\n",
    "ax1=fig.add_subplot(1,3,1)\n",
    "ax2=fig.add_subplot(1,3,2)\n",
    "ax3=fig.add_subplot(1,3,3)\n",
    "\n",
    "ax1.plot(x,y,'bx')\n",
    "ax1.plot(ix,y1.data.numpy()[:,0],'r')\n",
    "ax1.set_title(\"M=1\")\n",
    "\n",
    "ax2.plot(x,y,'bx')\n",
    "ax2.plot(ix,y2.data.numpy()[:,0],'r')\n",
    "ax2.set_title(\"M=3\")\n",
    "\n",
    "ax3.plot(x,y,'bx')\n",
    "ax3.plot(ix,y3.data.numpy()[:,0],'r')\n",
    "ax3.set_title(\"M=10\")\n",
    "plt.show()"
   ]
  },
  {
   "cell_type": "code",
   "execution_count": null,
   "metadata": {
    "collapsed": true
   },
   "outputs": [],
   "source": []
  }
 ],
 "metadata": {
  "kernelspec": {
   "display_name": "Python 3",
   "language": "python",
   "name": "python3"
  },
  "language_info": {
   "codemirror_mode": {
    "name": "ipython",
    "version": 3
   },
   "file_extension": ".py",
   "mimetype": "text/x-python",
   "name": "python",
   "nbconvert_exporter": "python",
   "pygments_lexer": "ipython3",
   "version": "3.6.1"
  }
 },
 "nbformat": 4,
 "nbformat_minor": 2
}
