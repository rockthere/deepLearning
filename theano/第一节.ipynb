{
 "cells": [
  {
   "cell_type": "code",
   "execution_count": 2,
   "metadata": {},
   "outputs": [
    {
     "name": "stderr",
     "output_type": "stream",
     "text": [
      "WARNING (theano.configdefaults): g++ not available, if using conda: `conda install m2w64-toolchain`\n",
      "WARNING (theano.configdefaults): g++ not detected ! Theano will be unable to execute optimized C-implementations (for both CPU and GPU) and will default to Python implementations. Performance will be severely degraded. To remove this warning, set Theano flags cxx to an empty string.\n"
     ]
    },
    {
     "name": "stdout",
     "output_type": "stream",
     "text": [
      "5.0\n"
     ]
    }
   ],
   "source": [
    "import numpy as np\n",
    "import theano.tensor as T\n",
    "# from theano     theano.function\n",
    "from theano import function\n",
    "import theano\n",
    "\n",
    "# 建立x容器\n",
    "x=T.dscalar('x')\n",
    "y=T.dscalar('y')\n",
    "z=x+y\n",
    "# 使用function定义theano的方程，将输入值x,y放在[]中，输出值放在后面\n",
    "f=function([x,y],z)\n",
    "print(f(2,3))"
   ]
  },
  {
   "cell_type": "code",
   "execution_count": 3,
   "metadata": {
    "collapsed": true
   },
   "outputs": [],
   "source": [
    "# 单独为每一个标量定义\n",
    "x=T.dscalar('x')\n",
    "#或者一次性定义多个\n",
    "x,y=T.dscalars('x','y')\n",
    "\n",
    "\n",
    "\n",
    "#向量的定义和操作\n",
    "#方式1\n",
    "x,y=T.dvectors('x','y')\n",
    "\n",
    "#方式2\n",
    "x=T.dvector('x')\n",
    "y=T.dvector('y')\n",
    "\n",
    "#矩阵的\n",
    "#方式1\n",
    "x=T.dmatrix('x')\n",
    "y=T.dmatrix('y')\n",
    "\n",
    "#方式2\n",
    "x,y=T.dmatrices('x','y')\n"
   ]
  },
  {
   "cell_type": "code",
   "execution_count": 4,
   "metadata": {},
   "outputs": [
    {
     "name": "stdout",
     "output_type": "stream",
     "text": [
      "(x + y)\n"
     ]
    }
   ],
   "source": [
    "from theano import pp\n",
    "# 使用（pretty-print）pp打印除原始方程\n",
    "print(pp(z))"
   ]
  },
  {
   "cell_type": "code",
   "execution_count": 5,
   "metadata": {
    "scrolled": true
   },
   "outputs": [
    {
     "name": "stdout",
     "output_type": "stream",
     "text": [
      "[[ 0  1  2  3]\n",
      " [ 4  5  6  7]\n",
      " [ 8  9 10 11]]\n",
      "[[ 1.  1.  1.  1.]\n",
      " [ 1.  1.  1.  1.]\n",
      " [ 1.  1.  1.  1.]]\n",
      "[[ 10.  11.  12.  13.]\n",
      " [ 14.  15.  16.  17.]\n",
      " [ 18.  19.  20.  21.]]\n"
     ]
    }
   ],
   "source": [
    "# 定义矩阵，以及相关运算\n",
    "x=T.dmatrix('x')\n",
    "y=T.dmatrix('y')\n",
    "z=x+y\n",
    "f=function([x,y],z)\n",
    "# arange返回的是一个数组，\n",
    "# reshape(行，列)注意-1情况\n",
    "arr=np.arange(12)\n",
    "#print(arr.reshape(-1,1))\n",
    "print(arr.reshape(3,4))\n",
    "# ones创建任意维度和元素个数数组，元素值都为1\n",
    "print(np.ones((3,4)))\n",
    "print(f(arr.reshape((3,4)),10*np.ones((3,4))))"
   ]
  },
  {
   "cell_type": "code",
   "execution_count": 6,
   "metadata": {},
   "outputs": [
    {
     "name": "stdout",
     "output_type": "stream",
     "text": [
      "[[ 0.5         0.73105858]\n",
      " [ 0.11920292  0.04742587]]\n"
     ]
    }
   ],
   "source": [
    "x=T.dmatrix('x')\n",
    "s=1/(1+T.exp(-x))\n",
    "logistic=function([x],s)\n",
    "print(logistic([[0,1],[-2,-3]]))"
   ]
  },
  {
   "cell_type": "code",
   "execution_count": 7,
   "metadata": {},
   "outputs": [
    {
     "name": "stdout",
     "output_type": "stream",
     "text": [
      "[[ 1.  0.]\n",
      " [-1. -2.]] [[ 1.  0.]\n",
      " [ 1.  2.]] [[ 1.  0.]\n",
      " [ 1.  4.]]\n"
     ]
    }
   ],
   "source": [
    "# 多输入多输出的function\n",
    "# 假定输入值两个，输出也是两个，指定输入值矩阵a,b\n",
    "a,b=T.dmatrices('a','b')\n",
    "diff=a-b\n",
    "abs_diff=abs(diff)\n",
    "diff_squared=diff**2\n",
    "f=function([a,b],[diff,abs_diff,diff_squared])\n",
    "x1,x2,x3=f(\n",
    "    np.ones((2,2)),\n",
    "    np.arange(4).reshape((2,2))\n",
    ")\n",
    "print(x1,x2,x3)"
   ]
  },
  {
   "cell_type": "code",
   "execution_count": 8,
   "metadata": {},
   "outputs": [
    {
     "name": "stdout",
     "output_type": "stream",
     "text": [
      "48.0\n",
      "78.0\n"
     ]
    }
   ],
   "source": [
    "# function的名字\n",
    "x,y,w=T.dscalars('x','y','w')\n",
    "z=(x+y)*w\n",
    "f=theano.function([x,theano.In(y,value=1),theano.In(w,value=2)],z)\n",
    "#使用默认值\n",
    "print(f(23))\n",
    "#不使用默认值\n",
    "print(f(23,3,3))"
   ]
  },
  {
   "cell_type": "code",
   "execution_count": 9,
   "metadata": {},
   "outputs": [
    {
     "name": "stdout",
     "output_type": "stream",
     "text": [
      "96.0\n"
     ]
    }
   ],
   "source": [
    "#添加名字\n",
    "f = theano.function([x,\n",
    "                     theano.In(y, value=1),\n",
    "                     theano.In(w,value=2,name='weights')],\n",
    "                    z)\n",
    "                    \n",
    "print (f(23,1,weights=4)) ##调用方式"
   ]
  },
  {
   "cell_type": "code",
   "execution_count": 10,
   "metadata": {},
   "outputs": [
    {
     "name": "stdout",
     "output_type": "stream",
     "text": [
      "0.0\n",
      "1.0\n",
      "9.0\n"
     ]
    }
   ],
   "source": [
    "# 共享变量\n",
    "import theano\n",
    "state=theano.shared(np.array(0,dtype=np.float64),'state')# 初始化\n",
    "# 不能使用np.float64指定类型，需要使用dtype=state.dtype\n",
    "inc=T.scalar('inc',dtype=state.dtype)\n",
    "accumulator=theano.function([inc],state,updates=[(state,state+inc)])\n",
    "# get_value获取共享变量的值\n",
    "print(state.get_value())\n",
    "accumulator(1)\n",
    "print(state.get_value())\n",
    "# 设置共享变量的值\n",
    "state.set_value(-1)\n",
    "accumulator(10)\n",
    "print(state.get_value())"
   ]
  },
  {
   "cell_type": "code",
   "execution_count": 11,
   "metadata": {
    "scrolled": true
   },
   "outputs": [
    {
     "data": {
      "text/plain": [
       "[<matplotlib.lines.Line2D at 0x95ce400>]"
      ]
     },
     "execution_count": 11,
     "metadata": {},
     "output_type": "execute_result"
    },
    {
     "data": {
      "image/png": "[encoded data removed]",
      "text/plain": [
       "<matplotlib.figure.Figure at 0x94f3f98>"
      ]
     },
     "metadata": {},
     "output_type": "display_data"
    }
   ],
   "source": [
    "# 激励函数Activation function\n",
    "# http://deeplearning.net/software/theano/library/tensor/nnet/nnet.html\n",
    "%matplotlib inline\n",
    "import matplotlib.pyplot as plt\n",
    "x=T.dvector('x')\n",
    "y=T.nnet.sigmoid(x)\n",
    "sigmoid=theano.function([x],y)\n",
    "x_=np.arange(-10,10,0.1)\n",
    "y_=sigmoid(x_)\n",
    "plt.plot(x_,y_)\n",
    "\n"
   ]
  },
  {
   "cell_type": "code",
   "execution_count": 12,
   "metadata": {},
   "outputs": [
    {
     "name": "stdout",
     "output_type": "stream",
     "text": [
      "[[ 0.2  0.2]\n",
      " [ 0.2  0.2]\n",
      " [ 0.2  0.2]\n",
      " [ 0.2  0.2]]\n"
     ]
    },
    {
     "data": {
      "image/png": "[encoded data removed]",
      "text/plain": [
       "<matplotlib.figure.Figure at 0x8b7b7f0>"
      ]
     },
     "metadata": {},
     "output_type": "display_data"
    }
   ],
   "source": [
    "print(np.zeros((4,2))+0.2)\n",
    "np.linspace(2.0, 3.0, num=5,endpoint=True)\n",
    "#linspace(start, stop, num=50, endpoint=True, retstep=False, dtype=None)[source]    \n",
    "#start开始点，stop结束点 num:点的个数  endpoint:是否包含结束点stop True/False retstep=True输出步长\n",
    "x_data=np.linspace(-1,1,50)[:,np.newaxis]\n",
    "noise=np.random.normal(0,0.05,x_data.shape)\n",
    "y_data=np.square(x_data)-0.5+noise #y = x^2 - 0.5 + wihtenoise\n",
    "plt.scatter(x_data,y_data)\n",
    "plt.show()\n"
   ]
  },
  {
   "cell_type": "code",
   "execution_count": 13,
   "metadata": {},
   "outputs": [
    {
     "data": {
      "image/png": "[encoded data removed]",
      "text/plain": [
       "<matplotlib.figure.Figure at 0xa9817f0>"
      ]
     },
     "metadata": {},
     "output_type": "display_data"
    },
    {
     "name": "stdout",
     "output_type": "stream",
     "text": [
      "0.7438622827410474\n",
      "0.019110025945154173\n",
      "0.008978049983026247\n",
      "0.007439726609504615\n",
      "0.006968003942284306\n",
      "0.00661663584033731\n",
      "0.0062065912099260245\n",
      "0.005763130542675502\n",
      "0.0053973814134329395\n",
      "0.005096355385721177\n"
     ]
    }
   ],
   "source": [
    "#定义 Layer 类\n",
    "# inputs表示输入 1输入1维  10表示输出10维  relu激活函数\n",
    "# layer1=Layer(inputs,1,10,T.nnet.relu)\n",
    "#第一层的输出是第二层输入，则输入10维  输出1维\n",
    "# layer2=Layer(layer1,outputs,10,1,None)\n",
    "\n",
    "# np.random.normal(loc=0.0, scale=1.0, size=None) \n",
    "# loc：float\n",
    "#     此概率分布的均值（对应着整个分布的中心centre）\n",
    "# scale：float\n",
    "#     此概率分布的标准差（对应于分布的宽度，scale越大越矮胖，scale越小，越瘦高）\n",
    "# size：int or tuple of ints\n",
    "#     输出的shape，默认为None，只输出一个值\n",
    "\n",
    "#一般会用np.random.randn(size)标准正态分布（μ=0,σ=1）对应np.random.normal(loc=0, scale=1, size)\n",
    "\n",
    "# zeros(shape, dtype=float, order='C')此例是out_size列，一行数组\n",
    "#dot是矩阵的乘法\n",
    "class Layer(object):\n",
    "    #构造函数 \n",
    "    def __init__(self,inputs,in_size,out_size,activation_function=None):\n",
    "        self.W = theano.shared(np.random.normal(0,1,(in_size,out_size)))\n",
    "        #b初始值0.1数组\n",
    "        self.b=theano.shared(np.zeros((out_size,))+0.1)\n",
    "        self.Wx_plus_b=T.dot(inputs,self.W)+self.b\n",
    "        self.activation_function=activation_function\n",
    "        if activation_function is None:\n",
    "            self.outputs=self.Wx_plus_b\n",
    "        else:\n",
    "            self.outputs=self.activation_function(self.Wx_plus_b)\n",
    "\n",
    "            \n",
    "#linspace(start, stop, num=50, endpoint=True, retstep=False, dtype=None)[source]    \n",
    "#start开始点，stop结束点 num:点的个数  endpoint:是否包含结束点stop True/False retstep=True输出步长\n",
    "x_data=np.linspace(-1,1,300)[:,np.newaxis]\n",
    "noise=np.random.normal(0,0.05,x_data.shape)\n",
    "y_data=np.square(x_data)-0.5+noise #y = x^2 - 0.5 + wihtenoise\n",
    "plt.scatter(x_data,y_data)\n",
    "plt.show()\n",
    "\n",
    "#定义神经网络的输入与目标,默认float64类型\n",
    "x=T.dmatrix('x')\n",
    "y=T.dmatrix('y')\n",
    "layer1=Layer(x,1,10,T.nnet.relu)\n",
    "layer2=Layer(layer1.outputs,10,1,None)\n",
    "#损失函数 .mean是求\n",
    "const=T.mean(T.square(layer2.outputs-y))\n",
    "\n",
    "#计算梯度\n",
    "gW1, gb1, gW2, gb2 = T.grad(const, [layer1.W, layer1.b, layer2.W, layer2.b])\n",
    "\n",
    "\n",
    "#定义学习率\n",
    "learning_rate=0.05\n",
    "\n",
    "#梯度下降算法\n",
    "train=function(\n",
    "inputs=[x,y],\n",
    "    outputs=const,\n",
    "    updates=[(layer1.W,layer1.W-learning_rate*gW1),\n",
    "            (layer1.b,layer1.b-learning_rate*gb1),\n",
    "             (layer2.W,layer2.W-learning_rate*gW2),\n",
    "            (layer2.b,layer2.b-learning_rate*gb2)\n",
    "            ])\n",
    "#预测函数\n",
    "predict=theano.function(inputs=[x],outputs=layer2.outputs)\n",
    "\n",
    "\n",
    "#训练\n",
    "for i in range(500):\n",
    "    err=train(x_data,y_data)\n",
    "    if i% 50 == 0:\n",
    "        print(err)\n",
    "    "
   ]
  },
  {
   "cell_type": "code",
   "execution_count": 14,
   "metadata": {
    "scrolled": true
   },
   "outputs": [
    {
     "name": "stdout",
     "output_type": "stream",
     "text": [
      "cost: 12.05641218288364\n",
      "cost: 6.290385162535431\n",
      "cost: 2.8342746280240863\n",
      "cost: 1.1926287553106607\n",
      "cost: 0.4397660557048588\n",
      "cost: 0.1642693651388501\n",
      "cost: 0.06926879602657339\n",
      "cost: 0.047080169822803414\n",
      "cost: 0.04085317431999816\n",
      "cost: 0.03838153733893754\n"
     ]
    }
   ],
   "source": [
    "#Classification 分类学习\n",
    "\n",
    "#计算问题准确率函数\n",
    "rng=np.random\n",
    "N=400  #训练数据量\n",
    "feats=784 #输入的特征数\n",
    "\n",
    "#生成的随机数D = (input_values, target_class)\n",
    "#randint生成随机整数 size生成的个数 low:生成的最小值 high生成的最大值（不包含）\n",
    "D=(rng.randn(N,feats),rng.randint(size=N,low=0,high=2))\n",
    "\n",
    "#建立模型\n",
    "\n",
    "#定义x,y容器\n",
    "x=T.dmatrix('x')\n",
    "y=T.dvector('y')\n",
    "\n",
    "#初始化权重W，偏置b\n",
    "W=theano.shared(rng.randn(feats),name=\"W\")\n",
    "b=theano.shared(0.,name=\"b\")\n",
    "\n",
    "p_1=T.nnet.sigmoid(T.dot(x,W)+b) #sigmoid激励函数\n",
    "prediction=p_1>0.5\n",
    "#交叉熵\n",
    "xent=-y*T.log(p_1)-(1-y)*T.log(1-p_1)\n",
    "#或者 xent = T.nnet.binary_crossentropy(p_1, y) \n",
    "\n",
    "cost=xent.mean()+0.01*(W**2).sum() #L2正则化\n",
    "gW,gb=T.grad(cost,[W,b])\n",
    "\n",
    "\n",
    "#激活模型\n",
    "\n",
    "learning_rate=0.1\n",
    "train=theano.function(\n",
    "inputs=[x,y],\n",
    "    outputs=[prediction,xent.mean()],\n",
    "    updates=((W,W-learning_rate*gW),(b,b-learning_rate*gb)))\n",
    "predict=theano.function(inputs=[x],outputs=prediction)\n",
    "\n",
    "#训练模型\n",
    "# Training\n",
    "\n",
    "def compute_accuracy(y_target,y_predict):\n",
    "    corret_prediction=np.equal(y_predict,y_target)\n",
    "    accuracy=np.sum(correct_prediction)/len(correct_prediction)\n",
    "    return accuracy\n",
    "\n",
    "for i in range(500):\n",
    "    pred, err = train(D[0], D[1])\n",
    "    if i % 50 ==0:\n",
    "        print('cost:', err)\n",
    "        \n",
    "\n",
    "        "
   ]
  },
  {
   "cell_type": "code",
   "execution_count": 24,
   "metadata": {},
   "outputs": [
    {
     "data": {
      "image/png": "[encoded data removed]",
      "text/plain": [
       "<matplotlib.figure.Figure at 0xc2c6a20>"
      ]
     },
     "metadata": {},
     "output_type": "display_data"
    }
   ],
   "source": [
    "#正规化\n",
    "#对于训练集，学习的效果非常好，甚至接近完美地穿过每个点，或者非常准确地进行了分类，但是把这个模型应用于新的数据集上，\n",
    "#表现就特别差。这种现象叫做过拟合\n",
    "from sklearn.datasets import load_boston\n",
    "np.random.seed(100)\n",
    "#数据进行归一化，\n",
    "def minmax_normalization(data):\n",
    "    xs_max=np.max(data,axis=0)\n",
    "    xs_min=np.min(data,axis=0)\n",
    "    xs=(1-0)*(data-xs_min)/(xs_max-xs_min)+0\n",
    "    return xs;\n",
    "\n",
    "\n",
    "# load_boston 房价数据，有 500 多个样本，13 个 feature，每个样本对应一个房价。 其中 y 通过增加维度 [:, np.newaxis] 由列表结构变成了矩阵的形式。\n",
    "x_data=load_boston().data\n",
    "x_data=minmax_normalization(x_data)\n",
    "y_data=load_boston().target[:,np.newaxis]\n",
    "\n",
    "\n",
    "#把数据集分为训练集和测试集，交叉验证，来检验是否真正的学习好了，交叉验证还可以筛选合适的参数\n",
    "x_train, y_train = x_data[:400], y_data[:400]\n",
    "x_test,y_test=x_data[400:],y_data[400:]\n",
    "\n",
    "x=T.dmatrix('x')\n",
    "y=T.dmatrix('y')\n",
    "\n",
    "#建立模型,建立两个神经层 layer1有13个属性，50个神经元，激活函数tanh，layer2的输入时1的输出，有50个，输出为房价，只有一个\n",
    "layer1=Layer(x,13,50,T.tanh)\n",
    "layer2=Layer(layer1.outputs,50,1,None)\n",
    "\n",
    "#计算损失函数，\n",
    "cost=T.mean(T.square(layer2.outputs-y))# 没有正则化\n",
    "\n",
    "#cost=T.mean(T.square(layer2.outputs-y))+0.1*((layer1.W**2).summ())# L2正规化\n",
    "#cost=T.mean(T.square(layer2.outputs-y))+0.1*(abs(layer1.W).sum()+abs(layer2.W).sum()) #L1正规化\n",
    "\n",
    "#计算梯度\n",
    "gW1,gb1,gW2,gb2=T.grad(cost,[layer1.W,layer1.b,layer2.W,layer2.b])\n",
    "\n",
    "#激活模型\n",
    "\n",
    "#定义学习率，训练函数\n",
    "learning_rate=0.01\n",
    "train=theano.function(\n",
    "    inputs=[x,y],\n",
    "    updates={(layer1.W,layer1.W-learning_rate*gW1),\n",
    "            (layer1.b,layer1.b-learning_rate*gb1),\n",
    "             (layer2.W,layer2.W-learning_rate*gW2),\n",
    "            (layer2.b,layer2.b-learning_rate*gb2)\n",
    "            })\n",
    "\n",
    "compute_cost=theano.function(inputs=[x,y],outputs=cost)\n",
    "\n",
    "#训练模型\n",
    "\n",
    "#记录误差函数，训练100次，每10步记录一次训练集合测试集的误差\n",
    "train_err_list=[]\n",
    "test_err_list=[]\n",
    "learning_time=[]\n",
    "for i in range(1000):\n",
    "    train(x_train,y_train)\n",
    "    if i%10==0:\n",
    "        train_err_list.append(compute_cost(x_train,y_train))\n",
    "        test_err_list.append(compute_cost(x_test,y_test))\n",
    "        learning_time.append(i)\n",
    "    \n",
    "    \n",
    "#可视化结果\n",
    "plt.plot(learning_time,train_err_list, 'r-')\n",
    "plt.plot(learning_time,test_err_list,'b--')\n",
    "plt.show()"
   ]
  },
  {
   "cell_type": "code",
   "execution_count": 19,
   "metadata": {},
   "outputs": [
    {
     "name": "stdout",
     "output_type": "stream",
     "text": [
      "我要调用用户自定义函数!\n",
      "再次调用同一函数\n"
     ]
    }
   ],
   "source": [
    "\n",
    "def printme( str ):\n",
    "   \"打印任何传入的字符串\"\n",
    "   print(str);\n",
    "   return;\n",
    "\n",
    "# 调用函数\n",
    "printme(\"我要调用用户自定义函数!\");\n",
    "printme(\"再次调用同一函数\");\n",
    "\n"
   ]
  },
  {
   "cell_type": "code",
   "execution_count": null,
   "metadata": {
    "collapsed": true
   },
   "outputs": [],
   "source": []
  }
 ],
 "metadata": {
  "celltoolbar": "Raw Cell Format",
  "kernelspec": {
   "display_name": "Python 3",
   "language": "python",
   "name": "python3"
  },
  "language_info": {
   "codemirror_mode": {
    "name": "ipython",
    "version": 3
   },
   "file_extension": ".py",
   "mimetype": "text/x-python",
   "name": "python",
   "nbconvert_exporter": "python",
   "pygments_lexer": "ipython3",
   "version": "3.6.1"
  }
 },
 "nbformat": 4,
 "nbformat_minor": 2
}
