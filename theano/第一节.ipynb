{
 "cells": [
  {
   "cell_type": "code",
   "execution_count": 6,
   "metadata": {},
   "outputs": [
    {
     "name": "stdout",
     "output_type": "stream",
     "text": [
      "5.0\n"
     ]
    }
   ],
   "source": [
    "import numpy as np\n",
    "import theano.tensor as T\n",
    "# from theano     theano.function\n",
    "from theano import function\n",
    "\n",
    "# 建立x容器\n",
    "x=T.dscalar('x')\n",
    "y=T.dscalar('y')\n",
    "z=x+y\n",
    "# 使用function定义theano的方程，将输入值x,y放在[]中，输出值放在后面\n",
    "f=function([x,y],z)\n",
    "print(f(2,3))"
   ]
  },
  {
   "cell_type": "code",
   "execution_count": 9,
   "metadata": {},
   "outputs": [
    {
     "name": "stdout",
     "output_type": "stream",
     "text": [
      "(x + y)\n"
     ]
    }
   ],
   "source": [
    "from theano import pp\n",
    "# 使用（pretty-print）pp打印除原始方程\n",
    "print(pp(z))"
   ]
  },
  {
   "cell_type": "code",
   "execution_count": 40,
   "metadata": {
    "scrolled": true
   },
   "outputs": [
    {
     "name": "stdout",
     "output_type": "stream",
     "text": [
      "[[ 0  1  2  3]\n",
      " [ 4  5  6  7]\n",
      " [ 8  9 10 11]]\n",
      "[[ 1.  1.  1.  1.]\n",
      " [ 1.  1.  1.  1.]\n",
      " [ 1.  1.  1.  1.]]\n",
      "[[ 10.  11.  12.  13.]\n",
      " [ 14.  15.  16.  17.]\n",
      " [ 18.  19.  20.  21.]]\n"
     ]
    }
   ],
   "source": [
    "# 定义矩阵，以及相关运算\n",
    "x=T.dmatrix('x')\n",
    "y=T.dmatrix('y')\n",
    "z=x+y\n",
    "f=function([x,y],z)\n",
    "# arange返回的是一个数组，\n",
    "# reshape(行，列)注意-1情况\n",
    "arr=np.arange(12)\n",
    "#print(arr.reshape(-1,1))\n",
    "print(arr.reshape(3,4))\n",
    "# ones创建任意维度和元素个数数组，元素值都为1\n",
    "print(np.ones((3,4)))\n",
    "print(f(arr.reshape((3,4)),10*np.ones((3,4))))"
   ]
  },
  {
   "cell_type": "code",
   "execution_count": 43,
   "metadata": {},
   "outputs": [
    {
     "name": "stdout",
     "output_type": "stream",
     "text": [
      "[[ 0.5         0.73105858]\n",
      " [ 0.11920292  0.04742587]]\n"
     ]
    }
   ],
   "source": [
    "x=T.dmatrix('x')\n",
    "s=1/(1+T.exp(-x))\n",
    "logistic=function([x],s)\n",
    "print(logistic([[0,1],[-2,-3]]))"
   ]
  },
  {
   "cell_type": "code",
   "execution_count": 45,
   "metadata": {},
   "outputs": [
    {
     "name": "stdout",
     "output_type": "stream",
     "text": [
      "[[ 1.  0.]\n",
      " [-1. -2.]] [[ 1.  0.]\n",
      " [ 1.  2.]] [[ 1.  0.]\n",
      " [ 1.  4.]]\n"
     ]
    }
   ],
   "source": [
    "# 多输入多输出的function\n",
    "# 假定输入值两个，输出也是两个，指定输入值矩阵a,b\n",
    "a,b=T.dmatrices('a','b')\n",
    "diff=a-b\n",
    "abs_diff=abs(diff)\n",
    "diff_squared=diff**2\n",
    "f=function([a,b],[diff,abs_diff,diff_squared])\n",
    "x1,x2,x3=f(\n",
    "    np.ones((2,2)),\n",
    "    np.arange(4).reshape((2,2))\n",
    ")\n",
    "print(x1,x2,x3)"
   ]
  },
  {
   "cell_type": "code",
   "execution_count": 70,
   "metadata": {},
   "outputs": [
    {
     "name": "stdout",
     "output_type": "stream",
     "text": [
      "48.0\n",
      "78.0\n"
     ]
    }
   ],
   "source": [
    "# function的名字\n",
    "x,y,w=T.dscalars('x','y','w')\n",
    "z=(x+y)*w\n",
    "f=theano.function([x,theano.In(y,value=1),theano.In(w,value=2)],z)\n",
    "#使用默认值\n",
    "print(f(23))\n",
    "#不使用默认值\n",
    "print(f(23,3,3))"
   ]
  },
  {
   "cell_type": "code",
   "execution_count": 71,
   "metadata": {},
   "outputs": [
    {
     "name": "stdout",
     "output_type": "stream",
     "text": [
      "96.0\n"
     ]
    }
   ],
   "source": [
    "#添加名字\n",
    "f = theano.function([x,\n",
    "                     theano.In(y, value=1),\n",
    "                     theano.In(w,value=2,name='weights')],\n",
    "                    z)\n",
    "                    \n",
    "print (f(23,1,weights=4)) ##调用方式"
   ]
  },
  {
   "cell_type": "code",
   "execution_count": 83,
   "metadata": {},
   "outputs": [
    {
     "name": "stdout",
     "output_type": "stream",
     "text": [
      "0.0\n",
      "1.0\n",
      "9.0\n"
     ]
    }
   ],
   "source": [
    "# 共享变量\n",
    "import theano\n",
    "state=theano.shared(np.array(0,dtype=np.float64),'state')# 初始化\n",
    "# 不能使用np.float64指定类型，需要使用dtype=state.dtype\n",
    "inc=T.scalar('inc',dtype=state.dtype)\n",
    "accumulator=theano.function([inc],state,updates=[(state,state+inc)])\n",
    "# get_value获取共享变量的值\n",
    "print(state.get_value())\n",
    "accumulator(1)\n",
    "print(state.get_value())\n",
    "# 设置共享变量的值\n",
    "state.set_value(-1)\n",
    "accumulator(10)\n",
    "print(state.get_value())"
   ]
  },
  {
   "cell_type": "code",
   "execution_count": null,
   "metadata": {
    "collapsed": true
   },
   "outputs": [],
   "source": [
    "# 激励函数Activation function"
   ]
  }
 ],
 "metadata": {
  "kernelspec": {
   "display_name": "Python 3",
   "language": "python",
   "name": "python3"
  },
  "language_info": {
   "codemirror_mode": {
    "name": "ipython",
    "version": 3
   },
   "file_extension": ".py",
   "mimetype": "text/x-python",
   "name": "python",
   "nbconvert_exporter": "python",
   "pygments_lexer": "ipython3",
   "version": "3.6.1"
  }
 },
 "nbformat": 4,
 "nbformat_minor": 2
}
