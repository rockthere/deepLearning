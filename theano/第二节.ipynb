{
 "cells": [
  {
   "cell_type": "code",
   "execution_count": 15,
   "metadata": {},
   "outputs": [
    {
     "name": "stdout",
     "output_type": "stream",
     "text": [
      "[-0.15707296  0.14590665 -0.08451091 -0.12594476 -0.13424085 -0.33887753\n",
      "  0.12650858  0.20702686  0.0549835   0.29920542]\n"
     ]
    }
   ],
   "source": [
    "import numpy as np\n",
    "import theano\n",
    "import theano.tensor as T\n",
    "import pickle\n",
    "# pickle 是python中用来存储文件的模块\n",
    "\n",
    "def compute_accuracy(y_target,y_predict):\n",
    "    correct_prediction=np.equal(y_predict,y_target)\n",
    "    accuracy=np.sum(correct_prediction)/len(correct_prediction)\n",
    "    return accuracy\n",
    "\n",
    "rng=np.random\n",
    "np.random.seed(100)\n",
    "N=400\n",
    "feats=784\n",
    "D=(rng.randn(N,feats),rng.randint(size=N,low=0,high=2))\n",
    "\n",
    "x=T.dmatrix('x')\n",
    "y=T.dvector('y')\n",
    "\n",
    "W=theano.shared(rng.randn(feats),name=\"W\")\n",
    "b=theano.shared(0.,name=\"b\")\n",
    "\n",
    "p_1=1/(1+T.exp(-T.dot(x,W)-b))\n",
    "prediction=p_1>0.5\n",
    "xent=-y*T.log(p_1)-(1-y)*T.log(1-p_1)\n",
    "cost=xent.mean()+0.01*(W**2).sum()\n",
    "gW,gb=T.grad(cost,[W,b])\n",
    "\n",
    "learning_rate=0.1\n",
    "train=theano.function(\n",
    "    inputs=[x,y],\n",
    "    updates=((W,W-learning_rate*gW),(b,b-learning_rate*gb)))\n",
    "predict=theano.function(inputs=[x],outputs=prediction)\n",
    "\n",
    "\n",
    "for i in range(500):\n",
    "    train(D[0],D[1])\n",
    "    \n",
    "#保存数据\n",
    "with open('save/model.pickle','wb') as file:\n",
    "    model = [W.get_value(),b.get_value()]\n",
    "    pickle.dump(model,file)\n",
    "    print(model[0][:10])\n",
    "#     print(compute_accuacy(D[1],predict[D[0]]))"
   ]
  },
  {
   "cell_type": "code",
   "execution_count": 16,
   "metadata": {},
   "outputs": [
    {
     "name": "stdout",
     "output_type": "stream",
     "text": [
      "[-0.15707296  0.14590665 -0.08451091 -0.12594476 -0.13424085 -0.33887753\n",
      "  0.12650858  0.20702686  0.0549835   0.29920542]\n"
     ]
    }
   ],
   "source": [
    "#提取数据\n",
    "with open('save/model.pickle','rb') as file:\n",
    "    model=pickle.load(file)\n",
    "    W.set_value(model[0])\n",
    "    b.set_value(model[1])\n",
    "    print(W.get_value()[:10])"
   ]
  },
  {
   "cell_type": "code",
   "execution_count": null,
   "metadata": {
    "collapsed": true
   },
   "outputs": [],
   "source": []
  }
 ],
 "metadata": {
  "kernelspec": {
   "display_name": "Python 3",
   "language": "python",
   "name": "python3"
  },
  "language_info": {
   "codemirror_mode": {
    "name": "ipython",
    "version": 3
   },
   "file_extension": ".py",
   "mimetype": "text/x-python",
   "name": "python",
   "nbconvert_exporter": "python",
   "pygments_lexer": "ipython3",
   "version": "3.6.1"
  }
 },
 "nbformat": 4,
 "nbformat_minor": 2
}
