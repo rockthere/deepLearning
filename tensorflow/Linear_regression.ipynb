{
 "cells": [
  {
   "cell_type": "code",
   "execution_count": 1,
   "metadata": {},
   "outputs": [
    {
     "data": {
      "image/png": "[encoded data removed]",
      "text/plain": [
       "<matplotlib.figure.Figure at 0xb9aefd0>"
      ]
     },
     "metadata": {},
     "output_type": "display_data"
    }
   ],
   "source": [
    "import tensorflow as tf\n",
    "import numpy as np\n",
    "import matplotlib.pyplot as plt\n",
    "from matplotlib import animation, rc\n",
    "\n",
    "from IPython.display import HTML\n",
    "%matplotlib inline\n",
    "\n",
    "#定义输入数据\n",
    "x_data=np.arange(100,step=2.5)\n",
    "y_data=x_data+20*np.sin(x_data/10)\n",
    "\n",
    "\n",
    "#绘制输入的数据点\n",
    "plt.scatter(x_data,y_data)\n",
    "\n",
    "n_samples=int(100/2.5)\n",
    "\n",
    "x_data=np.reshape(x_data,(n_samples,1))\n",
    "y_data=np.reshape(y_data,(n_samples,1))\n",
    "\n",
    "x_test=np.random.rand(200)*120\n",
    "x_test=x_test.reshape(-1,1)\n"
   ]
  },
  {
   "cell_type": "code",
   "execution_count": 2,
   "metadata": {},
   "outputs": [
    {
     "data": {
      "image/png": "[encoded data removed]",
      "text/plain": [
       "<matplotlib.figure.Figure at 0xbe84ef0>"
      ]
     },
     "metadata": {},
     "output_type": "display_data"
    }
   ],
   "source": [
    "\n",
    "\n",
    "#定义placeholder\n",
    "x=tf.placeholder(tf.float32,shape=(None,1))\n",
    "y=tf.placeholder(tf.float32,shape=(None,1))\n",
    "\n",
    "with tf.variable_scope(\"linear_regression\"):\n",
    "    W=tf.Variable([[0.]],'weight')\n",
    "    b=tf.Variable([[10.]],'bias')\n",
    "    \n",
    "    y_pred=tf.matmul(x,W)+b\n",
    "    loss=1./2*tf.reduce_mean((y-y_pred)**2)\n",
    "    \n",
    "opt=tf.train.AdamOptimizer(0.1)\n",
    "opt_operation=opt.minimize(loss)\n",
    "\n",
    "animation_fram=[]\n",
    "\n",
    "with tf.Session() as sess:\n",
    "    sess.run(tf.global_variables_initializer())\n",
    "    for _ in range(500):\n",
    "        _,loss_val=sess.run([opt_operation,loss],feed_dict={x:x_data,y:y_data})\n",
    "        predict=sess.run(y_pred,feed_dict={x:x_test})\n",
    "        animation_fram.append((x_test,predict,loss_val))\n",
    "        \n",
    "f,ax=plt.subplots(figsize=(6,4))\n",
    "f.suptitle('Linear Regression Example',fontsize=15)\n",
    "plt.ylabel('Y')\n",
    "plt.xlabel('X')\n",
    "ax.set_xlim(0,120)\n",
    "ax.set_ylim(0,120)\n",
    "\n",
    "\n",
    "line_d,=ax.plot([],[],label='fit_line')\n",
    "dots,=ax.plot([],[],'bo',label='actual_dots')\n",
    "\n",
    "frame_text=ax.text(0.02,0.95,'',horizontalalignment='left',verticalalignment='top',transform=ax.transAxes)\n",
    "\n",
    "def init():\n",
    "    line_d.set_data([],[])\n",
    "    dots.set_data([],[])\n",
    "    return (line_d,)+(dots,)\n",
    "\n",
    "def animate(i):\n",
    "    line_d.set_data(animation_fram[i][0],animation_fram[i][1])\n",
    "    \n",
    "    dots.set_data(x_data,y_data)\n",
    "    \n",
    "    frame_text.set_text('Timestep=%.1d/%.1d\\nLoss=%.3f'%(i,len(animation_fram),animation_fram[i][2]))\n",
    "    return (line_d,)+(dots,)\n",
    "\n",
    "# anim=animation.FuncAnimation(f,animate,init_func=init,frames=len(animation_fram),interval=30,blit=True)\n",
    "# HTML(anim.to_html5_video())\n",
    "#https://github.com/nndl/nndl-codes/blob/master/tensorflow/Linear_regression.ipynb\n",
    "#有问题"
   ]
  },
  {
   "cell_type": "code",
   "execution_count": null,
   "metadata": {
    "collapsed": true
   },
   "outputs": [],
   "source": []
  }
 ],
 "metadata": {
  "kernelspec": {
   "display_name": "Python 3",
   "language": "python",
   "name": "python3"
  },
  "language_info": {
   "codemirror_mode": {
    "name": "ipython",
    "version": 3
   },
   "file_extension": ".py",
   "mimetype": "text/x-python",
   "name": "python",
   "nbconvert_exporter": "python",
   "pygments_lexer": "ipython3",
   "version": "3.6.1"
  }
 },
 "nbformat": 4,
 "nbformat_minor": 2
}
