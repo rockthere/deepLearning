{
 "cells": [
  {
   "cell_type": "code",
   "execution_count": 5,
   "metadata": {},
   "outputs": [
    {
     "name": "stdout",
     "output_type": "stream",
     "text": [
      "v1: [[-0.35022914  1.8473446 ]]\n",
      "v2: [[-0.3234394  -0.7176655   0.14284596]\n",
      " [ 0.40421563 -1.005012   -0.03067525]]\n",
      "Model saved in file  data/model/modelSaveandRestore.ckpt\n"
     ]
    }
   ],
   "source": [
    "import tensorflow as tf\n",
    "v1=tf.Variable(tf.random_normal([1,2]),name=\"v1\")\n",
    "v2=tf.Variable(tf.random_normal([2,3]),name=\"v2\")\n",
    "saver=tf.train.Saver()\n",
    "with tf.Session() as sess:\n",
    "    sess.run(tf.global_variables_initializer())\n",
    "    print(\"v1:\",sess.run(v1))\n",
    "    print(\"v2:\",sess.run(v2))\n",
    "    saver_path=saver.save(sess,\"data/model/modelSaveandRestore/modelSaveandRestore.ckpt\")\n",
    "    print(\"Model saved in file \",saver_path)\n",
    "    \n",
    "    "
   ]
  },
  {
   "cell_type": "code",
   "execution_count": null,
   "metadata": {},
   "outputs": [],
   "source": []
  }
 ],
 "metadata": {
  "kernelspec": {
   "display_name": "Python 3",
   "language": "python",
   "name": "python3"
  },
  "language_info": {
   "codemirror_mode": {
    "name": "ipython",
    "version": 3
   },
   "file_extension": ".py",
   "mimetype": "text/x-python",
   "name": "python",
   "nbconvert_exporter": "python",
   "pygments_lexer": "ipython3",
   "version": "3.6.6"
  }
 },
 "nbformat": 4,
 "nbformat_minor": 2
}
