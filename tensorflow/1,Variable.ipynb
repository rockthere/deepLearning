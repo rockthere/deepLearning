{
 "cells": [
  {
   "cell_type": "code",
   "execution_count": 43,
   "metadata": {},
   "outputs": [
    {
     "name": "stdout",
     "output_type": "stream",
     "text": [
      "(1, 2) (2, 1)\n",
      "[[1.5 1. ]] [[2.]\n",
      " [3.]]\n",
      "[[6.]]\n",
      "Tensor(\"zeros_7:0\", shape=(3, 4), dtype=int32) Tensor(\"ones_2:0\", shape=(3, 4), dtype=float32)\n"
     ]
    }
   ],
   "source": [
    "import tensorflow as tf\n",
    "\n",
    "a=3\n",
    "w=tf.Variable([[1.5,1.0]])\n",
    "x=tf.Variable([[2.0],[3.0]])\n",
    "\n",
    "y=tf.matmul(w,x)\n",
    "print (w.shape,x.shape)\n",
    "init=tf.global_variables_initializer()\n",
    "\n",
    "with tf.Session() as sess:\n",
    "    sess.run(init)\n",
    "    # 查看具体的值需要使用eval\n",
    "    print(w.eval(),x.eval())\n",
    "    print(y.eval())\n",
    "    \n",
    "# float32 int32 \n",
    "zeros=tf.zeros([3,4],dtype=\"int32\")\n",
    "ones=tf.ones([3,4])\n",
    "\n",
    "print(zeros,ones)"
   ]
  },
  {
   "cell_type": "code",
   "execution_count": 52,
   "metadata": {},
   "outputs": [
    {
     "name": "stdout",
     "output_type": "stream",
     "text": [
      "[[-3.5924516 -4.852844   3.4568405]\n",
      " [-7.3886704 -6.5216393  3.2737846]]\n",
      "[[1 2]\n",
      " [5 6]\n",
      " [3 4]]\n",
      "1\n",
      "2\n",
      "3\n",
      "4\n"
     ]
    }
   ],
   "source": [
    "#高斯分布 均值方差\n",
    "norm=tf.random_normal([2,3],mean=-1,stddev=4)\n",
    "c=tf.constant([[1,2],[3,4],[5,6]])\n",
    "shuff=tf.random_shuffle(c)\n",
    "with tf.Session() as sess:\n",
    "    print(sess.run(norm))\n",
    "    print(sess.run(shuff))\n",
    "\n",
    "    \n",
    "state=tf.Variable(0)\n",
    "# tf.constant(1)可以直接写1\n",
    "new_value=tf.add(state,tf.constant(1))\n",
    "\n",
    "update=tf.assign(state,new_value)\n",
    "\n",
    "with tf.Session() as sess:\n",
    "    sess.run(tf.global_variables_initializer())\n",
    "    print(sess.run(update))\n",
    "    for _ in range(3):\n",
    "        sess.run(update)\n",
    "#         打印值必须run\n",
    "        print(sess.run(state))"
   ]
  },
  {
   "cell_type": "code",
   "execution_count": 70,
   "metadata": {},
   "outputs": [
    {
     "name": "stdout",
     "output_type": "stream",
     "text": [
      "sava_path ./test\n"
     ]
    }
   ],
   "source": [
    "\n",
    "w=tf.Variable([[0.5,1.0]])\n",
    "x=tf.Variable([[1.0],[3.0]])\n",
    "y=tf.matmul(w,x)\n",
    "# 保存sess\n",
    "saver=tf.train.Saver()\n",
    "init=tf.global_variables_initializer()\n",
    "with tf.Session() as sess:\n",
    "    sess.run(init)\n",
    "    \n",
    "    save_path=saver.save(sess,\"./test\")\n",
    "    print(\"sava_path\",save_path)\n",
    "    "
   ]
  },
  {
   "cell_type": "code",
   "execution_count": 91,
   "metadata": {},
   "outputs": [
    {
     "name": "stdout",
     "output_type": "stream",
     "text": [
      "[[0. 0. 0.]\n",
      " [0. 0. 0.]\n",
      " [0. 0. 0.]] [[0. 0. 0.]\n",
      " [0. 0. 0.]\n",
      " [0. 0. 0.]]\n",
      "11\n"
     ]
    }
   ],
   "source": [
    "# numpy 转换成tensorflow格式\n",
    "import numpy as np\n",
    "a=np.zeros((3,3))\n",
    "ta=tf.convert_to_tensor(a)\n",
    "with tf.Session() as sess:\n",
    "    print(a,sess.run(ta))\n",
    "    \n",
    "input1=tf.placeholder(tf.float32,shape=(1,2))\n",
    "input2=tf.placeholder(tf.float32,shape=(2,1))\n",
    "output=tf.matmul(input1,input2)\n",
    "\n",
    "with tf.Session() as sess:\n",
    "    print(11)\n",
    "    sess.run(output,feed_dict={input1:[[1,2]],input2:[[1],[2]]})"
   ]
  },
  {
   "cell_type": "code",
   "execution_count": 111,
   "metadata": {},
   "outputs": [
    {
     "data": {
      "image/png": "[encoded data removed]",
      "text/plain": [
       "<Figure size 432x288 with 1 Axes>"
      ]
     },
     "metadata": {},
     "output_type": "display_data"
    },
    {
     "name": "stdout",
     "output_type": "stream",
     "text": [
      "W= [-0.13717198] b= [0.] loss= 0.10739404\n",
      "W= [-0.06753633] b= [0.3003475] loss= 0.008885139\n",
      "W= [-0.01831959] b= [0.30042714] loss= 0.0047627646\n",
      "W= [0.016223] b= [0.30048338] loss= 0.002732133\n",
      "W= [0.04046659] b= [0.30052286] loss= 0.001731867\n",
      "W= [0.05748186] b= [0.30055058] loss= 0.0012391481\n",
      "W= [0.06942397] b= [0.30057004] loss= 0.0009964408\n",
      "W= [0.07780549] b= [0.3005837] loss= 0.0008768857\n",
      "W= [0.08368803] b= [0.3005933] loss= 0.0008179944\n",
      "W= [0.08781667] b= [0.3006] loss= 0.00078898517\n",
      "W= [0.09071434] b= [0.30060473] loss= 0.0007746956\n",
      "W= [0.09274806] b= [0.30060804] loss= 0.0007676567\n",
      "W= [0.09417542] b= [0.30061036] loss= 0.00076418946\n",
      "W= [0.0951772] b= [0.300612] loss= 0.00076248153\n",
      "W= [0.0958803] b= [0.30061314] loss= 0.0007616402\n",
      "W= [0.09637377] b= [0.30061394] loss= 0.0007612259\n",
      "W= [0.09672011] b= [0.3006145] loss= 0.00076102157\n",
      "W= [0.09696318] b= [0.3006149] loss= 0.00076092116\n",
      "W= [0.09713379] b= [0.30061516] loss= 0.00076087157\n",
      "W= [0.09725352] b= [0.30061537] loss= 0.0007608471\n",
      "W= [0.09733756] b= [0.30061552] loss= 0.00076083513\n"
     ]
    }
   ],
   "source": [
    "import numpy as np\n",
    "import tensorflow as tf\n",
    "import matplotlib.pyplot as plt\n",
    "\n",
    "#生产随机点\n",
    "num_point=500\n",
    "vectors_set=[]\n",
    "for i in range(num_point):\n",
    "    x1=np.random.normal(0.0,0.55)\n",
    "    y1=x1*0.1+0.3+np.random.normal(0.0,0.03)\n",
    "    vectors_set.append([x1,y1])\n",
    "    \n",
    "x_data=[v[0] for v in vectors_set]\n",
    "y_data=[v[1] for v in vectors_set]\n",
    "\n",
    "\n",
    "plt.scatter(x_data,y_data)\n",
    "plt.show()\n",
    "\n",
    "W=tf.Variable(tf.random_uniform([1],-1.0,1.0),name=\"W\")\n",
    "b=tf.Variable(tf.zeros([1]),name=\"b\")\n",
    "y=W*x_data+b\n",
    "\n",
    "# 均方差\n",
    "loss=tf.reduce_mean(tf.square(y-y_data),name=\"loss\")\n",
    "\n",
    "# 优化项（学习率）\n",
    "optimizer=tf.train.GradientDescentOptimizer(0.5)\n",
    "\n",
    "train=optimizer.minimize(loss,name=\"train\")\n",
    "\n",
    "with tf.Session() as sess:\n",
    "    sess.run(tf.global_variables_initializer())\n",
    "    print(\"W=\",sess.run(W),\"b=\",sess.run(b),\"loss=\",sess.run(loss))\n",
    "    for i in range(20):\n",
    "        sess.run(train)\n",
    "        print(\"W=\",sess.run(W),\"b=\",sess.run(b),\"loss=\",sess.run(loss))\n",
    " "
   ]
  },
  {
   "cell_type": "code",
   "execution_count": null,
   "metadata": {},
   "outputs": [],
   "source": []
  }
 ],
 "metadata": {
  "kernelspec": {
   "display_name": "Python 3",
   "language": "python",
   "name": "python3"
  },
  "language_info": {
   "codemirror_mode": {
    "name": "ipython",
    "version": 3
   },
   "file_extension": ".py",
   "mimetype": "text/x-python",
   "name": "python",
   "nbconvert_exporter": "python",
   "pygments_lexer": "ipython3",
   "version": "3.6.6"
  }
 },
 "nbformat": 4,
 "nbformat_minor": 2
}
