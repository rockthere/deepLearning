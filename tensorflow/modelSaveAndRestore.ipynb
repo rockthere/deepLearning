{
 "cells": [
  {
   "cell_type": "code",
   "execution_count": 19,
   "metadata": {},
   "outputs": [
    {
     "name": "stdout",
     "output_type": "stream",
     "text": [
      "v1: [[-1.6071513   0.03168731]]\n",
      "v2: [[ 0.7887841  -0.2607573  -2.1151836 ]\n",
      " [ 0.5253193   0.17574641  0.05768102]]\n",
      "Model saved in file  data/model/modelSaveandRestore/modelSaveandRestore.ckpt\n"
     ]
    }
   ],
   "source": [
    "import tensorflow as tf\n",
    "v1=tf.Variable(tf.random_normal([1,2]),name=\"v1\")\n",
    "v2=tf.Variable(tf.random_normal([2,3]),name=\"v2\")\n",
    "saver=tf.train.Saver()\n",
    "with tf.Session() as sess:\n",
    "    sess.run(tf.global_variables_initializer())\n",
    "    print(\"v1:\",sess.run(v1))\n",
    "    print(\"v2:\",sess.run(v2))\n",
    "    saver_path=saver.save(sess,\"data/model/modelSaveandRestore/modelSaveandRestore.ckpt\")\n",
    "    print(\"Model saved in file \",saver_path)\n",
    "    \n",
    "    "
   ]
  },
  {
   "cell_type": "code",
   "execution_count": 1,
   "metadata": {},
   "outputs": [
    {
     "name": "stdout",
     "output_type": "stream",
     "text": [
      "INFO:tensorflow:Restoring parameters from data/model/modelSaveandRestore/modelSaveandRestore.ckpt\n",
      "v3: [[-0.72664946 -0.6144004 ]]\n",
      "v4: [[-0.42944255  0.6289046   0.25584215]\n",
      " [-0.5314278   1.8819983  -0.07962464]]\n"
     ]
    }
   ],
   "source": [
    "import tensorflow as tf\n",
    "v1=tf.Variable(tf.random_normal([1,2]),name=\"v1\")\n",
    "v2=tf.Variable(tf.random_normal([2,3]),name=\"v2\")\n",
    "saver=tf.train.Saver()\n",
    "with tf.Session() as sess:\n",
    " \n",
    "    saver.restore(sess,\"data/model/modelSaveandRestore/modelSaveandRestore.ckpt\")\n",
    "    print(\"v3:\",sess.run(v1))\n",
    "    print(\"v4:\",sess.run(v2))\n",
    "        \n",
    "        \n",
    "        "
   ]
  },
  {
   "cell_type": "code",
   "execution_count": null,
   "metadata": {},
   "outputs": [],
   "source": []
  }
 ],
 "metadata": {
  "kernelspec": {
   "display_name": "Python 3",
   "language": "python",
   "name": "python3"
  },
  "language_info": {
   "codemirror_mode": {
    "name": "ipython",
    "version": 3
   },
   "file_extension": ".py",
   "mimetype": "text/x-python",
   "name": "python",
   "nbconvert_exporter": "python",
   "pygments_lexer": "ipython3",
   "version": "3.6.6"
  }
 },
 "nbformat": 4,
 "nbformat_minor": 2
}
