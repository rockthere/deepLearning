{
 "cells": [
  {
   "cell_type": "code",
   "execution_count": 8,
   "metadata": {},
   "outputs": [
    {
     "name": "stdout",
     "output_type": "stream",
     "text": [
      "Extracting /tmp/data/train-images-idx3-ubyte.gz\n",
      "Extracting /tmp/data/train-labels-idx1-ubyte.gz\n",
      "Extracting /tmp/data/t10k-images-idx3-ubyte.gz\n",
      "Extracting /tmp/data/t10k-labels-idx1-ubyte.gz\n",
      "WARNING:tensorflow:From D:\\Anaconda3\\lib\\site-packages\\tensorflow\\python\\util\\tf_should_use.py:175: initialize_all_variables (from tensorflow.python.ops.variables) is deprecated and will be removed after 2017-03-02.\n",
      "Instructions for updating:\n",
      "Use `tf.global_variables_initializer` instead.\n",
      "epoch 0001 cost 0.095266588\n",
      "epoch 0002 cost 0.064437173\n",
      "epoch 0003 cost 0.054196093\n",
      "epoch 0004 cost 0.048141062\n",
      "epoch 0005 cost 0.044670444\n",
      "epoch 0006 cost 0.043024603\n",
      "epoch 0007 cost 0.040368117\n",
      "epoch 0008 cost 0.038339883\n",
      "epoch 0009 cost 0.037161786\n",
      "epoch 0010 cost 0.034258936\n",
      "结束\n"
     ]
    },
    {
     "name": "stderr",
     "output_type": "stream",
     "text": [
      "D:\\Anaconda3\\lib\\site-packages\\matplotlib\\figure.py:403: UserWarning: matplotlib is currently using a non-GUI backend, so cannot show the figure\n",
      "  \"matplotlib is currently using a non-GUI backend, \"\n"
     ]
    },
    {
     "data": {
      "image/png": "[encoded data removed]",
      "text/plain": [
       "<matplotlib.figure.Figure at 0x12433ba8>"
      ]
     },
     "metadata": {},
     "output_type": "display_data"
    }
   ],
   "source": [
    "%matplotlib inline\n",
    "from __future__ import division,print_function,absolute_import\n",
    "import tensorflow as tf\n",
    "import numpy as np\n",
    "import matplotlib.pyplot as plt\n",
    "\n",
    "#导入数据集\n",
    "from tensorflow.examples.tutorials.mnist import input_data\n",
    "mnist=input_data.read_data_sets(\"/tmp/data/\",one_hot=True)\n",
    "\n",
    "#定义学习率\n",
    "learning_rate=0.01\n",
    "\n",
    "#中间层神经元个数\n",
    "n_hidden=256\n",
    "\n",
    "#输入层神经元个数\n",
    "n_input=784\n",
    "\n",
    "#待输入数据\n",
    "X=tf.placeholder(\"float\",[None,n_input])\n",
    "\n",
    "#权重\n",
    "weights={\n",
    "    'encoder_w':tf.Variable(tf.random_normal([n_input,n_hidden])),\n",
    "    'decoder_w':tf.Variable(tf.random_normal([n_hidden,n_input])),\n",
    "}\n",
    "\n",
    "#定义偏置\n",
    "biases={\n",
    "    'encoder_b':tf.Variable(tf.random_normal([n_hidden])),\n",
    "    'decoder_b':tf.Variable(tf.random_normal([n_input])),\n",
    "}\n",
    "\n",
    "#编码过程\n",
    "def encoder(x):\n",
    "    return tf.nn.sigmoid(tf.add(tf.matmul(x,weights['encoder_w']),biases['encoder_b']))\n",
    "\n",
    "#解码过程\n",
    "def decoder(x):\n",
    "    return tf.nn.sigmoid(tf.add(tf.matmul(x,weights['decoder_w']),biases['decoder_b']))\n",
    "\n",
    "#编码开始\n",
    "encoder_op=encoder(X)\n",
    "\n",
    "#解码开始\n",
    "decoder_op=decoder(encoder_op)\n",
    "\n",
    "#预测值\n",
    "y_pred=decoder_op\n",
    "\n",
    "#真实输入值\n",
    "y_true=X\n",
    "\n",
    "#代价函数\n",
    "cost=tf.reduce_mean(tf.pow(y_true-y_pred,2))\n",
    "\n",
    "#优化过程\n",
    "optimizer=tf.train.RMSPropOptimizer(learning_rate).minimize(cost)\n",
    "\n",
    "init=tf.initialize_all_variables()\n",
    "\n",
    "with tf.Session() as sess:\n",
    "    sess.run(init)\n",
    "    for epoch  in range(10):#训练十轮\n",
    "        for i in range(300):#每轮训练300次\n",
    "            batch_xs,batch_ys=mnist.train.next_batch(256)#每个步骤随机抓取256个批处理数据点\n",
    "            _,c=sess.run([optimizer,cost],feed_dict={X:batch_xs})#运行\n",
    "        print(\"epoch\",'%04d'%(epoch+1),\"cost\",\"{:.9f}\".format(c))\n",
    "    \n",
    "    print(\"结束\")\n",
    "    #评估模型\n",
    "    encode_decode=sess.run(y_pred,feed_dict={X:mnist.test.images[:10]})\n",
    "    \n",
    "    f,a=plt.subplots(2,10,figsize=(10,2))\n",
    "    \n",
    "    for i in range(10):\n",
    "        a[0][i].imshow(np.reshape(mnist.test.images[i],(28,28)))\n",
    "        a[1][i].imshow(np.reshape(encode_decode[i],(28,28)))\n",
    "        \n",
    "    f.show()\n",
    "    plt.draw()\n",
    "        \n"
   ]
  },
  {
   "cell_type": "code",
   "execution_count": null,
   "metadata": {
    "collapsed": true
   },
   "outputs": [],
   "source": []
  }
 ],
 "metadata": {
  "kernelspec": {
   "display_name": "Python 3",
   "language": "python",
   "name": "python3"
  },
  "language_info": {
   "codemirror_mode": {
    "name": "ipython",
    "version": 3
   },
   "file_extension": ".py",
   "mimetype": "text/x-python",
   "name": "python",
   "nbconvert_exporter": "python",
   "pygments_lexer": "ipython3",
   "version": "3.6.6"
  }
 },
 "nbformat": 4,
 "nbformat_minor": 2
}
