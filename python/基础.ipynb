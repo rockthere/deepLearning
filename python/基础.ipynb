{
 "cells": [
  {
   "cell_type": "code",
   "execution_count": 48,
   "metadata": {},
   "outputs": [
    {
     "name": "stdout",
     "output_type": "stream",
     "text": [
      "1 2 4\n",
      "20\n",
      "3\n",
      "9\n",
      "17\n",
      "2.511\n",
      "你好啊？你好\n",
      "你好啊？\n",
      "你好\n",
      "᳀\n",
      "Hello nihao\n",
      "Hello 你好 nihao \n",
      "hello abcde\n",
      "hello 123.456\n",
      "hello 123.46\n",
      "hello1.2Hello nihao\n",
      "aa\n",
      "2\n",
      "<class 'int'>\n"
     ]
    }
   ],
   "source": [
    "print(1,2,4)\n",
    "print(max(15,10,20))\n",
    "#二进制\n",
    "print(0b11)\n",
    "#八进制\n",
    "print(0o11)\n",
    "#十六进制\n",
    "print(0x11)\n",
    "#浮点数运算会得到不精确的结果\n",
    "a=1.2\n",
    "b=1.311\n",
    "print(a+b)\n",
    "#字符串可以单引号或者双引号，但是不能混用，相同引号不能嵌套\n",
    "#长字符串，三重引号可以换行,并且保留格式\n",
    "s='你好啊？\\\n",
    "你好'\n",
    "s1='''你好啊？\n",
    "你好'''\n",
    "print(s)\n",
    "print(s1)\n",
    "#unicode可以打印出字符\n",
    "print('\\u1cc0')\n",
    "#格式化字符串2\n",
    "b='Hello %s'%'nihao'\n",
    "b1='Hello %s %s '%('你好','nihao')\n",
    "\n",
    "print(b)\n",
    "print(b1)\n",
    "print('hello %3.5s'%'abcdef')# %3.5s表示字符串长度3-5之间\n",
    "print('hello %s'%123.456)\n",
    "print('hello %.2f'%123.456)#保留两位小数\n",
    "#格式化字符串 f,可以直接嵌入变量\n",
    "c=f'hello{a}{b}'\n",
    "print(c)\n",
    "a='a'\n",
    "print(a*2)#将a字符串赋值两次aa\n",
    "print(1+True)\n",
    "print(type(1))#类型\n"
   ]
  },
  {
   "cell_type": "code",
   "execution_count": 54,
   "metadata": {},
   "outputs": [
    {
     "name": "stdout",
     "output_type": "stream",
     "text": [
      "4417689648\n",
      "4417689648\n",
      "4417689680\n"
     ]
    }
   ],
   "source": [
    "\n",
    "#变量存储（id,类型，值）\n",
    "\n",
    "a=1\n",
    "b=a\n",
    "c=2\n",
    "print(id(a))\n",
    "print(id(b))\n",
    "print(id(c))"
   ]
  },
  {
   "cell_type": "code",
   "execution_count": null,
   "metadata": {},
   "outputs": [],
   "source": []
  }
 ],
 "metadata": {
  "kernelspec": {
   "display_name": "Python 3",
   "language": "python",
   "name": "python3"
  },
  "language_info": {
   "codemirror_mode": {
    "name": "ipython",
    "version": 3
   },
   "file_extension": ".py",
   "mimetype": "text/x-python",
   "name": "python",
   "nbconvert_exporter": "python",
   "pygments_lexer": "ipython3",
   "version": "3.6.8"
  }
 },
 "nbformat": 4,
 "nbformat_minor": 2
}
