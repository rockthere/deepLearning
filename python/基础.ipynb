{
 "cells": [
  {
   "cell_type": "code",
   "execution_count": 48,
   "metadata": {},
   "outputs": [
    {
     "name": "stdout",
     "output_type": "stream",
     "text": [
      "1 2 4\n",
      "20\n",
      "3\n",
      "9\n",
      "17\n",
      "2.511\n",
      "你好啊？你好\n",
      "你好啊？\n",
      "你好\n",
      "᳀\n",
      "Hello nihao\n",
      "Hello 你好 nihao \n",
      "hello abcde\n",
      "hello 123.456\n",
      "hello 123.46\n",
      "hello1.2Hello nihao\n",
      "aa\n",
      "2\n",
      "<class 'int'>\n"
     ]
    }
   ],
   "source": [
    "print(1,2,4)\n",
    "print(max(15,10,20))\n",
    "#二进制\n",
    "print(0b11)\n",
    "#八进制\n",
    "print(0o11)\n",
    "#十六进制\n",
    "print(0x11)\n",
    "#浮点数运算会得到不精确的结果\n",
    "a=1.2\n",
    "b=1.311\n",
    "print(a+b)\n",
    "#字符串可以单引号或者双引号，但是不能混用，相同引号不能嵌套\n",
    "#长字符串，三重引号可以换行,并且保留格式\n",
    "s='你好啊？\\\n",
    "你好'\n",
    "s1='''你好啊？\n",
    "你好'''\n",
    "print(s)\n",
    "print(s1)\n",
    "#unicode可以打印出字符\n",
    "print('\\u1cc0')\n",
    "#格式化字符串2\n",
    "b='Hello %s'%'nihao'\n",
    "b1='Hello %s %s '%('你好','nihao')\n",
    "\n",
    "print(b)\n",
    "print(b1)\n",
    "print('hello %3.5s'%'abcdef')# %3.5s表示字符串长度3-5之间\n",
    "print('hello %s'%123.456)\n",
    "print('hello %.2f'%123.456)#保留两位小数\n",
    "#格式化字符串 f,可以直接嵌入变量\n",
    "c=f'hello{a}{b}'\n",
    "print(c)\n",
    "a='a'\n",
    "print(a*2)#将a字符串赋值两次aa\n",
    "print(1+True)\n",
    "print(type(1))#类型\n"
   ]
  },
  {
   "cell_type": "code",
   "execution_count": 74,
   "metadata": {},
   "outputs": [
    {
     "name": "stdout",
     "output_type": "stream",
     "text": [
      "4417689648\n",
      "4417689648\n",
      "4417689680\n",
      "2\n",
      "False\n",
      "a\n",
      "0\n",
      "a\n",
      "你好\n"
     ]
    }
   ],
   "source": [
    "\n",
    "#变量存储（id,类型，值）\n",
    "\n",
    "a=1\n",
    "b=a\n",
    "c=2\n",
    "print(id(a))\n",
    "print(id(b))\n",
    "print(id(c))\n",
    "a=5\n",
    "#a+=5\n",
    "#取整//,取余%\n",
    "a//=2\n",
    "print(a)\n",
    "#python中可以对字符串进行大于或者小于操作，比较的是字符串的unicode编码，逐位比较\n",
    "\n",
    "#is 比较两个对象是否是同一个对象，比较的是id(is not  相反含义)\n",
    "#逻辑运算符 （布尔值）\n",
    "# not 取反操作\n",
    "# and 且操作，两边真才是真（第一个为真，不会再看第二个）\n",
    "# or 或操作  找到true之后的就不在看\n",
    "a=True\n",
    "print(not a)#非运算，取反操作\n",
    "\n",
    "\n",
    "#非布尔值的逻辑运算\n",
    "#and  找False的，如果第一个是False,则不看第二个，若True直接返回第二个值\n",
    "# or 找True的，如果第一个是True,则不看第二个，若False直接返回第二个值\n",
    "print(1 and \"a\")\n",
    "print(0 and \"a\")\n",
    "print(0 or \"a\")\n",
    "# 条件运算符（三元运算符）\n",
    "#语法：语句1 if 条件表达式 else 语句2 \n",
    "#执行流程：先对条件表达式求值，True ，执行语句1，并返回结果，否则执行语句2，并返回结果\n",
    "\n",
    "print(\"你好\") if True else print(\"nihao\")\n"
   ]
  },
  {
   "cell_type": "code",
   "execution_count": null,
   "metadata": {},
   "outputs": [],
   "source": [
    "#input（\"提示内容\"）函数获取的是字符串\n",
    "# if 条件表达式：\n",
    "#    代码块\n",
    "# elif 表达式:\n",
    "#     代码块\n",
    "# else :\n",
    "#     代码块\n",
    "\n",
    "#\n",
    "# while 表达式：\n",
    "#      代码块\n",
    "# else:\n",
    "#"
   ]
  }
 ],
 "metadata": {
  "kernelspec": {
   "display_name": "Python 3",
   "language": "python",
   "name": "python3"
  },
  "language_info": {
   "codemirror_mode": {
    "name": "ipython",
    "version": 3
   },
   "file_extension": ".py",
   "mimetype": "text/x-python",
   "name": "python",
   "nbconvert_exporter": "python",
   "pygments_lexer": "ipython3",
   "version": "3.6.8"
  }
 },
 "nbformat": 4,
 "nbformat_minor": 2
}
