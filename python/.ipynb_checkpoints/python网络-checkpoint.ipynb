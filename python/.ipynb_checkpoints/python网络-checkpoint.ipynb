{
 "cells": [
  {
   "cell_type": "code",
   "execution_count": null,
   "metadata": {},
   "outputs": [],
   "source": [
    "import socket\n",
    "server=socket.socket()\n",
    "ipaddr=('127.0.0.1',9998)\n",
    "server.bind(ipaddr)\n",
    "server.listen()\n",
    "s,raddr=server.accept()\n",
    "while True:\n",
    "    data=s.recv(1024)\n",
    "    print(data)\n",
    "    s.send('ack.()'.format(data.decode().encode))\n",
    "s.close()\n",
    "server.close\n",
    "\n",
    "\n",
    "\n"
   ]
  },
  {
   "cell_type": "code",
   "execution_count": null,
   "metadata": {},
   "outputs": [],
   "source": []
  }
 ],
 "metadata": {
  "celltoolbar": "Edit Metadata",
  "kernelspec": {
   "display_name": "Python 3",
   "language": "python",
   "name": "python3"
  },
  "language_info": {
   "codemirror_mode": {
    "name": "ipython",
    "version": 3
   },
   "file_extension": ".py",
   "mimetype": "text/x-python",
   "name": "python",
   "nbconvert_exporter": "python",
   "pygments_lexer": "ipython3",
   "version": "3.6.8"
  }
 },
 "nbformat": 4,
 "nbformat_minor": 2
}
