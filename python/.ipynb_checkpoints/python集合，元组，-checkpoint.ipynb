{
 "cells": [
  {
   "cell_type": "code",
   "execution_count": 25,
   "metadata": {},
   "outputs": [
    {
     "name": "stdout",
     "output_type": "stream",
     "text": [
      "['a', 'b']\n",
      "['a', 'b', 'c', 'd', 'e']\n",
      "['e', 'e', 'e']\n",
      "['aa', 'ss', 'dd', 'b', 'c', 'd', ':', 1, 1]\n",
      "['aa', 'dd', 'b', 'c', ':', 1, 1]\n",
      "aa\n",
      "dd\n",
      "b\n",
      "c\n",
      ":\n",
      "1\n",
      "1\n"
     ]
    }
   ],
   "source": [
    "stus=[\"a\",\"b\",\"c\",\"d\"]\n",
    "stus1=['e']\n",
    "#列表[开始：结束：步长] 不包含结束索引值，结束位置省略，截取到最后，开始省略，从开始处截取，\n",
    "#开始结束都省略，相当于创建列表副本\n",
    "print(stus[0:2])\n",
    "#+拼接 *重复几次\n",
    "print(stus+stus1)\n",
    "print(stus1*3)\n",
    "# in ，not in,检查元素是否在列表中\n",
    "#替换元素\n",
    "stus[0:1]=[\"ss\"]\n",
    "#插入元素\n",
    "stus[0:0]=[\"aa\"]\n",
    "\n",
    "stus.append(\":\")#append 向列表添加元素\n",
    "stus.insert(2,\"dd\")#在索引处插入数据\n",
    "stus.extend([1,1])\n",
    "print(stus)\n",
    "stus.pop(1) #删除指定位置数据，不传参数，删除最后一个\n",
    "stus.remove(\"d\")\n",
    "print(stus)\n",
    "#遍历\n",
    "for s in stus:\n",
    "    print(s)\n",
    "\n"
   ]
  },
  {
   "cell_type": "code",
   "execution_count": 34,
   "metadata": {},
   "outputs": [
    {
     "name": "stdout",
     "output_type": "stream",
     "text": [
      "[0, 1, 2, 3, 4]\n",
      "200 100\n",
      "(1, 2) (1, 2, 3)\n",
      "<class 'tuple'>\n"
     ]
    }
   ],
   "source": [
    "#序列（sequence）\n",
    "\n",
    "\n",
    "#range 生成自然序列的函数，可传三个参数，开始，结束，步长\n",
    "r=range(5)\n",
    "print(list(r))\n",
    "#元组tuple，一般希望数据不变时使用元组，其它请了使用列表\n",
    "my_tuple=(1,2)\n",
    "my_tuple1=(1,2,3)\n",
    "a=100\n",
    "b=200\n",
    "a,b=b,a\n",
    "#元组交换a,b值，可以使用元组的解包\n",
    "print(a,b)\n",
    "#*表示后面剩余数据都给次参数\n",
    "c,d,*e=my_tuple1\n",
    "print(my_tuple,my_tuple1)\n",
    "print(type(my_tuple))\n",
    "#可变对象（id,type,value） 是value的可变\n",
    "\n",
    "# ==  !=比较对象的value是否相等\n",
    "#is is not 比较对象id是否相等"
   ]
  },
  {
   "cell_type": "code",
   "execution_count": 54,
   "metadata": {},
   "outputs": [
    {
     "name": "stdout",
     "output_type": "stream",
     "text": [
      "{'name': 2, 3: 4}\n",
      "<class 'dict'> {'name': 'xie'} None\n"
     ]
    },
    {
     "data": {
      "text/plain": [
       "dict_keys(['name'])"
      ]
     },
     "execution_count": 54,
     "metadata": {},
     "output_type": "execute_result"
    }
   ],
   "source": [
    "#字典（dict）称为映射\n",
    "d={'name':\"xie\"}\n",
    "d[\"name\"]\n",
    "dic=dict(name=\"xie\")\n",
    "#dic['name'] dic.get(\"name\")  get获取的时候如果键不存在会返回None，不会报错\n",
    "print(dict([('name',2),(3,4)]))\n",
    "print(type(d),d,dic.get('age'))\n",
    "\n",
    "#setdefault存在就直接返回，不存在就添加返回\n",
    "dic.setdefault(\"name1\",\"默认值\")\n",
    "#a.update(b)  b中a不存在的添加到a\n",
    "#a.pop(\"key\",\"default\") 删除key，有default时不异常\n",
    "#a.clear()清空\n",
    "#copy()复制副本，浅复制\n",
    "#keys()返回所有key,values()返回所有value\n",
    "\n"
   ]
  },
  {
   "cell_type": "code",
   "execution_count": 73,
   "metadata": {},
   "outputs": [
    {
     "ename": "TypeError",
     "evalue": "'set' object is not callable",
     "output_type": "error",
     "traceback": [
      "\u001b[0;31m---------------------------------------------------------------------------\u001b[0m",
      "\u001b[0;31mTypeError\u001b[0m                                 Traceback (most recent call last)",
      "\u001b[0;32m<ipython-input-73-9b1ce5423c50>\u001b[0m in \u001b[0;36m<module>\u001b[0;34m()\u001b[0m\n\u001b[1;32m      2\u001b[0m \u001b[0ms\u001b[0m\u001b[0;34m=\u001b[0m\u001b[0;34m{\u001b[0m\u001b[0;36m1\u001b[0m\u001b[0;34m}\u001b[0m\u001b[0;34m\u001b[0m\u001b[0;34m\u001b[0m\u001b[0m\n\u001b[1;32m      3\u001b[0m \u001b[0;31m#空集合\u001b[0m\u001b[0;34m\u001b[0m\u001b[0;34m\u001b[0m\u001b[0;34m\u001b[0m\u001b[0m\n\u001b[0;32m----> 4\u001b[0;31m \u001b[0ms1\u001b[0m\u001b[0;34m=\u001b[0m\u001b[0mset\u001b[0m\u001b[0;34m(\u001b[0m\u001b[0;34m{\u001b[0m\u001b[0;34m}\u001b[0m\u001b[0;34m)\u001b[0m\u001b[0;34m\u001b[0m\u001b[0;34m\u001b[0m\u001b[0m\n\u001b[0m\u001b[1;32m      5\u001b[0m \u001b[0mprint\u001b[0m\u001b[0;34m(\u001b[0m\u001b[0mtype\u001b[0m\u001b[0;34m(\u001b[0m\u001b[0ms\u001b[0m\u001b[0;34m)\u001b[0m\u001b[0;34m)\u001b[0m\u001b[0;34m\u001b[0m\u001b[0;34m\u001b[0m\u001b[0m\n",
      "\u001b[0;31mTypeError\u001b[0m: 'set' object is not callable"
     ]
    }
   ],
   "source": [
    "#集合set,无序\n",
    "s={1}\n",
    "#空集合 \n",
    "print(type(s))"
   ]
  },
  {
   "cell_type": "code",
   "execution_count": null,
   "metadata": {},
   "outputs": [],
   "source": []
  }
 ],
 "metadata": {
  "kernelspec": {
   "display_name": "Python 3",
   "language": "python",
   "name": "python3"
  },
  "language_info": {
   "codemirror_mode": {
    "name": "ipython",
    "version": 3
   },
   "file_extension": ".py",
   "mimetype": "text/x-python",
   "name": "python",
   "nbconvert_exporter": "python",
   "pygments_lexer": "ipython3",
   "version": "3.6.8"
  }
 },
 "nbformat": 4,
 "nbformat_minor": 2
}
