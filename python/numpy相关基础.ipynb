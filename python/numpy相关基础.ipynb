{
 "cells": [
  {
   "cell_type": "code",
   "execution_count": 2,
   "metadata": {},
   "outputs": [
    {
     "name": "stdout",
     "output_type": "stream",
     "text": [
      "<class 'numpy.ndarray'>\n",
      "(7, 5)\n",
      "2\n",
      "35\n"
     ]
    }
   ],
   "source": [
    "#Numpy是高效的运算工具\n",
    "#ndarray 任意纬度的数组\n",
    "import numpy as np\n",
    "score=np.array([\n",
    "    [1,21,3,4,5],\n",
    "    [10,21,3,4,5],\n",
    "    [11,21,3,4,5],\n",
    "    [16,21,3,4,5],\n",
    "    [10,21,3,4,5],\n",
    "    [9,2,3,4,5],\n",
    "    [1,2,3,4,5]\n",
    "])\n",
    "score1=np.array([1,2,3],dtype=np.float)#shape(3,)\n",
    "print(type(score))#类型\n",
    "print(score.shape)#形状\n",
    "print(score.ndim)#维度\n",
    "print(score.size)#长度"
   ]
  },
  {
   "cell_type": "code",
   "execution_count": 6,
   "metadata": {},
   "outputs": [
    {
     "name": "stdout",
     "output_type": "stream",
     "text": [
      "0.2596871852874756 0.004114866256713867\n"
     ]
    }
   ],
   "source": [
    "#效率对比\n",
    "import random\n",
    "import time\n",
    "import numpy as np\n",
    "a=[]\n",
    "for i in range(10000000):\n",
    "    a.append(random.random())\n",
    "    \n",
    "t1=time.time()\n",
    "sum1=np.sum(a)\n",
    "t2=time.time()\n",
    "\n",
    "b=np.array(a) \n",
    "t4=time.time()\n",
    "sum3=np.sum(b)\n",
    "t5=time.time()\n",
    "print(t2-t1,t5-t4)\n"
   ]
  },
  {
   "cell_type": "code",
   "execution_count": 30,
   "metadata": {},
   "outputs": [
    {
     "name": "stdout",
     "output_type": "stream",
     "text": [
      "[[0. 0.]\n",
      " [0. 0.]]\n",
      "[[0. 0. 0.]\n",
      " [0. 0. 0.]]\n",
      "[ 0.          1.11111111  2.22222222  3.33333333  4.44444444  5.55555556\n",
      "  6.66666667  7.77777778  8.88888889 10.        ]\n",
      "[0 2 4 6 8]\n"
     ]
    }
   ],
   "source": [
    "#生成数组方法\n",
    "#生成0和1\n",
    "a=np.zeros([2,2])\n",
    "b=np.zeros(shape=[2,3])\n",
    "print(a)\n",
    "print(b)\n",
    "#生成固定范围数据\n",
    "print(np.linspace(0,10,10))\n",
    "print(np.arange(0,10,2))#左闭右开，后是步长"
   ]
  },
  {
   "cell_type": "code",
   "execution_count": 36,
   "metadata": {},
   "outputs": [
    {
     "name": "stdout",
     "output_type": "stream",
     "text": [
      "[-0.28674028 -0.18298281  0.80981809 ...  0.5537286   0.72210981\n",
      "  0.07184866]\n"
     ]
    },
    {
     "data": {
      "image/png": "[encoded data removed]",
      "text/plain": [
       "<Figure size 432x288 with 1 Axes>"
      ]
     },
     "metadata": {},
     "output_type": "display_data"
    }
   ],
   "source": [
    "#生成随机数(uniform均匀分布)\n",
    "x=np.random.uniform(-1,1,5000)\n",
    "print(x)\n",
    "import matplotlib.pyplot as plt\n",
    "\n",
    "plt.figure()\n",
    "plt.hist(x,bins=1000)\n",
    "plt.show()\n",
    "#"
   ]
  },
  {
   "cell_type": "code",
   "execution_count": 9,
   "metadata": {},
   "outputs": [
    {
     "data": {
      "image/png": "[encoded data removed]",
      "text/plain": [
       "<Figure size 432x288 with 1 Axes>"
      ]
     },
     "metadata": {},
     "output_type": "display_data"
    }
   ],
   "source": [
    "#正态分布(loc均值，scale)\n",
    "import numpy as np\n",
    "import matplotlib.pyplot as plt\n",
    "\n",
    "data=np.random.normal(loc=1.75,scale=0.1,size=100000)\n",
    "plt.figure()\n",
    "plt.hist(data,bins=1000)\n",
    "plt.show()"
   ]
  },
  {
   "cell_type": "code",
   "execution_count": 9,
   "metadata": {},
   "outputs": [
    {
     "name": "stdout",
     "output_type": "stream",
     "text": [
      "(10, 8)\n",
      "[-0.18054909  0.37416973 -0.09737811]\n",
      "(10, 8)\n",
      "9\n"
     ]
    }
   ],
   "source": [
    "#正态分布(loc均值，scale)\n",
    "import numpy as np\n",
    "import matplotlib.pyplot as plt\n",
    "\n",
    "#8组数据，每组10个\n",
    "stock_change=np.random.normal(loc=0,scale=1,size=(8,10))\n",
    "\n",
    "#形状修改（反转）reshape返回新的，resize修改原来数据\n",
    "print(np.shape(stock_change.reshape(10,8)))\n",
    "\n",
    "#类型修改\n",
    "stock_change.astype(\"int32\")\n",
    "\n",
    "\n",
    "\n",
    "#改变原始数据\n",
    "stock_change.resize(10,8)\n",
    "\n",
    "#切片获取前三个\n",
    "#stock_change[::,:3]\n",
    "print(stock_change[0,:3])\n",
    "print(np.shape(stock_change))\n",
    "\n",
    "# print(stock_change.T)#转置，行列互换\n",
    "#三维数组\n",
    "a1=np.array([\n",
    "    [[1,2,3],\n",
    "    [4,5,6]],\n",
    "    [[7,8,9],\n",
    "    [41,15,16]],\n",
    "])\n",
    "# np.shape(a1)（2，2，3）\n",
    "print(a1[1,0,2])#取值9\n",
    "\n"
   ]
  },
  {
   "cell_type": "code",
   "execution_count": 14,
   "metadata": {},
   "outputs": [
    {
     "name": "stdout",
     "output_type": "stream",
     "text": [
      "[1 2 3 4 5 6]\n",
      "{1, 2, 3, 4, 5, 6}\n"
     ]
    }
   ],
   "source": [
    "#去重\n",
    "temp=np.array([[1,2,3,4],[3,4,5,6]])\n",
    "#\n",
    "print(np.unique(temp))\n",
    "\n",
    "fl=temp.flatten()\n",
    "#set只能用于一维\n",
    "print(set(fl))\n"
   ]
  },
  {
   "cell_type": "code",
   "execution_count": 30,
   "metadata": {},
   "outputs": [
    {
     "name": "stdout",
     "output_type": "stream",
     "text": [
      "[[-1.43203565 -2.36036817  0.07548516]\n",
      " [ 1.07880725 -0.31314568 -0.86372017]]\n",
      "[[False False False]\n",
      " [ True False False]]\n",
      "False\n",
      "True\n",
      "[[0 0 0]\n",
      " [2 0 0]]\n",
      "[ 1.07880725 -0.31314568  0.07548516]\n",
      "[0.07548516 1.07880725]\n"
     ]
    }
   ],
   "source": [
    "#逻辑与运算\n",
    "stock_change=np.random.normal(loc=0,scale=1,size=(2,3))\n",
    "temp=stock_change>0.5\n",
    "print(stock_change)\n",
    "print(temp)\n",
    "#np.all全true返回true  np.any是否有true\n",
    "print(np.all(temp))\n",
    "print(np.any(temp))\n",
    "\n",
    "#满足true设置为第一个值2，否则第二个0\n",
    "print(np.where(temp,2,0))\n",
    "\n",
    "#逻辑与，或  \n",
    "np.logical_and(temp>0.5,temp<0.6)\n",
    "\n",
    "\n",
    "#最大值  axis 0按列求最大  1按行求最大\n",
    "print(stock_change.max(axis=0))\n",
    "print(stock_change.max(axis=1))"
   ]
  },
  {
   "cell_type": "code",
   "execution_count": 31,
   "metadata": {},
   "outputs": [
    {
     "data": {
      "text/plain": [
       "array([[81, 87],\n",
       "       [83, 81],\n",
       "       [86, 79],\n",
       "       [91, 91],\n",
       "       [87, 83],\n",
       "       [83, 91],\n",
       "       [79, 81],\n",
       "       [93, 95]])"
      ]
     },
     "execution_count": 31,
     "metadata": {},
     "output_type": "execute_result"
    }
   ],
   "source": [
    "score=np.array([\n",
    "    [80,86],\n",
    "    [82,80],\n",
    "    [85,78],\n",
    "    [90,90],\n",
    "    [86,82],\n",
    "    [82,90],\n",
    "    [78,80],\n",
    "    [92,94]\n",
    "])\n",
    "#score+1  加减乘除 \n",
    "\n",
    "\n",
    "#矩阵乘法  （M行，N列）*（N行，L列）=（M行,L列）\n",
    "# np.matmul 或者np.dot()"
   ]
  },
  {
   "cell_type": "code",
   "execution_count": 41,
   "metadata": {},
   "outputs": [
    {
     "name": "stdout",
     "output_type": "stream",
     "text": [
      "[1 2 3 3 4 5]\n",
      "[[1 2 3]\n",
      " [3 4 5]]\n"
     ]
    },
    {
     "data": {
      "text/plain": [
       "array([1, 2, 3])"
      ]
     },
     "execution_count": 41,
     "metadata": {},
     "output_type": "execute_result"
    }
   ],
   "source": [
    "#合并\n",
    "a=np.array([1,2,3])\n",
    "b=np.array([3,4,5])\n",
    "#水平合并\n",
    "print(np.hstack((a,b)))\n",
    "#竖直合并\n",
    "print(np.vstack((a,b)))\n"
   ]
  },
  {
   "cell_type": "code",
   "execution_count": 45,
   "metadata": {},
   "outputs": [
    {
     "data": {
      "text/plain": [
       "array([[  nan,   nan,   nan,   nan],\n",
       "       [  1. , 123. ,   1.4,  23. ],\n",
       "       [  2. , 110. ,   nan,  18. ],\n",
       "       [  3. ,   nan,   2.1,  19. ]])"
      ]
     },
     "execution_count": 45,
     "metadata": {},
     "output_type": "execute_result"
    }
   ],
   "source": [
    "#读取文件\n",
    "\n",
    "data=np.genfromtxt('data.txt',delimiter=\",\")\n",
    "data"
   ]
  },
  {
   "cell_type": "code",
   "execution_count": null,
   "metadata": {},
   "outputs": [],
   "source": []
  }
 ],
 "metadata": {
  "kernelspec": {
   "display_name": "Python 3",
   "language": "python",
   "name": "python3"
  },
  "language_info": {
   "codemirror_mode": {
    "name": "ipython",
    "version": 3
   },
   "file_extension": ".py",
   "mimetype": "text/x-python",
   "name": "python",
   "nbconvert_exporter": "python",
   "pygments_lexer": "ipython3",
   "version": "3.6.8"
  }
 },
 "nbformat": 4,
 "nbformat_minor": 2
}
