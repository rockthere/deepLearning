{
 "cells": [
  {
   "cell_type": "code",
   "execution_count": null,
   "metadata": {},
   "outputs": [],
   "source": [
    "#客户端\n",
    "import socket\n",
    "server=socket.socket()\n",
    "server.bind(('127.0.0.1',9999))\n",
    "server.listen()\n",
    "\n",
    "\n",
    "s,raddr=server.accept()##返回二元组，（新的socket对象，对端地址）新的socket对象，对端地址\n",
    "#fd,laddr,raddr\n",
    "\n",
    "while True:\n",
    "    data=s.recv(1024)\n",
    "    print(data)\n",
    "    s.send('ack.{}'.format(data.decode()).encode())\n",
    "s.close()\n",
    "server.close()"
   ]
  },
  {
   "cell_type": "code",
   "execution_count": null,
   "metadata": {},
   "outputs": [],
   "source": [
    "import socket\n",
    "import threading\n",
    "import logging\n",
    "FORMAT=\"%(astime)s %(theadName)s %(thread)d %(message)s\"\n",
    "logging.basicConfig(format=FORMAT,level=logging.INFO)\n",
    "#TCP\n",
    "class ChatServer:\n",
    "    def __init(self,ip='127.0.0.1',port=9999):\n",
    "        self.addr=(ip,port)\n",
    "        self.sock=socket.socket()\n",
    "        self.clients={}\n",
    "    def start(self):\n",
    "        self.sock.listen()#服务器启动了\n",
    "        #s,raddr=self.sock.accept()#阻塞\n",
    "        threading.Thread(target=self.accept,name='accept').start\n",
    "\n",
    "    def accept(self,sock,addr):\n",
    "        while True:#一般只有一个\n",
    "            s,raddr=self.sock.accept()#阻塞\n",
    "            logging.info(raddr)\n",
    "            logging.info(s)\n",
    "            self.clients[raddr]=s\n",
    "            threading.Thread(target=self.recv,name='recv',args=(s,)).start\n",
    "\n",
    "    def recv(self,sock):#很多线程\n",
    "        while True:\n",
    "            data=sock.recv(1024)#阻塞,bytes\n",
    "            logging.info(data)\n",
    "            if data==b'quit':\n",
    "                self.clients.pop(sock.getpeername())\n",
    "                break\n",
    "            \n",
    "            for s in self.clients.values():\n",
    "                  s.send('ack {}'.format(data.decode()).encode())\n",
    "    def stop(self):\n",
    "        for s in self.clients.values():\n",
    "            s.close()\n",
    "        self.cock.close()\n",
    "\n",
    "cs=ChatServer()\n",
    "cs.start\n",
    "while True:\n",
    "    cmd=input(\">>>>>\")\n",
    "    if cmd.trip()=='quit':\n",
    "        cs.stop()\n",
    "        threading.Event.wait(3)\n",
    "        break\n",
    "    logging.info(threading.enumerate())\n"
   ]
  },
  {
   "cell_type": "code",
   "execution_count": null,
   "metadata": {},
   "outputs": [],
   "source": [
    "\n"
   ]
  }
 ],
 "metadata": {
  "celltoolbar": "Edit Metadata",
  "kernelspec": {
   "display_name": "Python 3",
   "language": "python",
   "name": "python3"
  },
  "language_info": {
   "codemirror_mode": {
    "name": "ipython",
    "version": 3
   },
   "file_extension": ".py",
   "mimetype": "text/x-python",
   "name": "python",
   "nbconvert_exporter": "python",
   "pygments_lexer": "ipython3",
   "version": "3.6.8"
  }
 },
 "nbformat": 4,
 "nbformat_minor": 2
}
