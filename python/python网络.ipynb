{
 "cells": [
  {
   "cell_type": "code",
   "execution_count": null,
   "metadata": {},
   "outputs": [],
   "source": [
    "import socket\n",
    "server=socket.socket()\n",
    "ipaddr=('127.0.0.1',9998)\n",
    "server.bind(ipaddr)\n",
    "server.listen()\n",
    "s,raddr=server.accept()#返回二元组，（新的socket对象，对端地址）\n",
    "while True:\n",
    "    data=s.recv(1024)\n",
    "    print(data)\n",
    "    s.send('ack.()'.format(data.decode().encode))\n",
    "s.close()\n",
    "server.close"
   ]
  },
  {
   "cell_type": "code",
   "execution_count": null,
   "metadata": {},
   "outputs": [],
   "source": [
    "import socket\n",
    "import threading\n",
    "import logging\n",
    "FORMAT=\"%(astime)s %(theadName)s %(thread)d %(message)s\"\n",
    "logging.basicConfig(format=FORMAT,level=logging.IFON)\n",
    "#TCP\n",
    "class ChatServer:\n",
    "    def __init(self,ip='127.0.0.1',port=9999):\n",
    "        self.addr=(ip,port)\n",
    "        self.sock=socket.socket()\n",
    "    def start(self):\n",
    "        pass\n",
    "    def stop:\n",
    "        pass\n",
    "\n"
   ]
  },
  {
   "cell_type": "code",
   "execution_count": null,
   "metadata": {},
   "outputs": [],
   "source": []
  }
 ],
 "metadata": {
  "celltoolbar": "Edit Metadata",
  "kernelspec": {
   "display_name": "Python 3",
   "language": "python",
   "name": "python3"
  },
  "language_info": {
   "codemirror_mode": {
    "name": "ipython",
    "version": 3
   },
   "file_extension": ".py",
   "mimetype": "text/x-python",
   "name": "python",
   "nbconvert_exporter": "python",
   "pygments_lexer": "ipython3",
   "version": "3.6.8"
  }
 },
 "nbformat": 4,
 "nbformat_minor": 2
}
