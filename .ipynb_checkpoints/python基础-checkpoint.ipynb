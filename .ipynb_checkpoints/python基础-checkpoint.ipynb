{
 "cells": [
  {
   "cell_type": "code",
   "execution_count": 4,
   "metadata": {},
   "outputs": [
    {
     "name": "stdout",
     "output_type": "stream",
     "text": [
      "1\n",
      "9\n",
      "jupyter\n",
      "[2, 12, 67, 7, 82, 0]\n",
      "lan Python\n",
      "{'python', 'python21', 'python2'}\n"
     ]
    }
   ],
   "source": [
    "#定义类型\n",
    "print (int(1.9))\n",
    "#**表示指数计算  3的立方3**3\n",
    "print(3**2)#3的平方\n",
    "#循环  for item in quence:\n",
    "\n",
    "#range(satrt,stop) 返回一个序列，start是序列的开始值（包含）。stop是序列的结束值（不包含）\n",
    "#range（stop）当一个参数数，起始0，终止stop,通range(0,stop)\n",
    "#range(start,stop,step)三个参数时，step表示步长，相邻两个数差值\n",
    "\n",
    "#Python共内置了list,tuple,dict,set四种集合\n",
    "\n",
    "#tuple 类型\n",
    "tup=(\"python\",\"learning\",\"jupyter\")\n",
    "print((tup[2]))\n",
    "a_tuple = (12, 3, 5, 15 , 6)\n",
    "another_tuple = 12, 3, 5, 15 , 6\n",
    "\n",
    "#dictnionary 类型\n",
    "dic={}\n",
    "dic[\"lan\"]='Python'\n",
    "\n",
    "#List\n",
    "a_list = [12, 3, 67, 7, 82]\n",
    "#加新元素\n",
    "a_list.append(0) \n",
    "a_list.insert(0,2) # 在位置1处添加0\n",
    "a_list.remove(3) # 删除列表中第一个出现的值为2的项\n",
    "#a_list[0]第一个元素  a_list[-1]最后一个元素\n",
    "#index获取某个值索引\n",
    "#count统计某个值出现的次数\n",
    "# sort()默认对从小到大排序\n",
    "#sort(reverse=True) # 从大到小排序\n",
    "\n",
    "print(a_list)\n",
    "\n",
    "for key in dic:\n",
    "    print(key,dic[key])\n",
    "    \n",
    "#set类型.set会去除重复响项\n",
    "s=set(['python','python21','python2'])\n",
    "print(s)\n",
    "\n",
    "#def定义函数，参数可以指定名字，\n",
    " \n",
    "    \n",
    "#打开文件open('filePath')\n",
    "#write('content')写内容\n",
    "# read()，readline()读取一行，readlines（）读取所有行文件"
   ]
  },
  {
   "cell_type": "code",
   "execution_count": 23,
   "metadata": {},
   "outputs": [
    {
     "name": "stdout",
     "output_type": "stream",
     "text": [
      "11\n"
     ]
    }
   ],
   "source": [
    "#导入A所有功能\n",
    "#A import * \n",
    "#导入A下的B\n",
    "#from A import  B\n",
    "\n",
    "#异常捕获\n",
    "try:\n",
    "    print(\"11\")\n",
    "#     file=open('aaa.txt','r')  #会报错的代码\n",
    "except Exception as e:\n",
    "    print(e)"
   ]
  },
  {
   "cell_type": "code",
   "execution_count": 5,
   "metadata": {},
   "outputs": [
    {
     "name": "stdout",
     "output_type": "stream",
     "text": [
      "<zip object at 0x104d75a48>\n",
      "[(1, 4), (2, 5), (3, 6)]\n"
     ]
    }
   ],
   "source": [
    "#zip函数接受任意多个参数序列，合并成一个列表\n",
    "a=[1,2,3]\n",
    "b=[4,5,6]\n",
    "ab=zip(a,b)\n",
    "print(ab)\n",
    "\n",
    "#要加list来可视化这个功能\n",
    "print(list(ab))\n"
   ]
  },
  {
   "cell_type": "code",
   "execution_count": 8,
   "metadata": {},
   "outputs": [
    {
     "name": "stdout",
     "output_type": "stream",
     "text": [
      "[[1 2 3]\n",
      " [2 3 4]]\n",
      "维度: 2\n",
      "行数和列数: (2, 3)\n",
      "元素个数： 6\n",
      "数据类型： int64\n",
      "[[2 2 2]\n",
      " [3 3 3]]\n",
      "[[0. 0. 0.]\n",
      " [0. 0. 0.]]\n",
      "ones: [[1 1 1]\n",
      " [1 1 1]]\n",
      "empty: [[-1.72723371e-077 -1.73060474e-077  2.14466115e-314]\n",
      " [ 2.16804849e-314  2.16804857e-314  2.16839074e-314]\n",
      " [ 2.14529559e-314  2.15237097e-314  2.14478135e-314]]\n"
     ]
    },
    {
     "data": {
      "text/plain": [
       "array([10, 12, 14, 16, 18])"
      ]
     },
     "execution_count": 8,
     "metadata": {},
     "output_type": "execute_result"
    }
   ],
   "source": [
    "#numpy\n",
    "import numpy as np\n",
    "\n",
    "array = np.array([[1,2,3],[2,3,4]])  #列表转化为矩阵\n",
    "print(array)\n",
    "\n",
    "\n",
    "# 维度ndim\n",
    "print(\"维度:\",array.ndim)\n",
    "print(\"行数和列数:\",array.shape)\n",
    "print(\"元素个数：\",array.size)\n",
    "#array：创建数组\n",
    "#dtype：指定数据类型\n",
    "#zeros：创建数据全为0\n",
    "#ones：创建数据全为1\n",
    "#empty创建全接近与0的\n",
    "\n",
    "\n",
    "#dtype指定数据类型\n",
    "a = np.array([2,23,4],dtype=np.int)\n",
    "print(\"数据类型：\",a.dtype)\n",
    "\n",
    "#创建2行3列的矩阵\n",
    "print(np.array([[2,2,2],[3,3,3]]))\n",
    "\n",
    "#创建全零矩阵\n",
    "print(np.zeros((2,3)))\n",
    "\n",
    "#创建全1矩阵\n",
    "print('ones:',np.ones((2,3),dtype=np.int))\n",
    "\n",
    "#全接近与0\n",
    "print(\"empty:\",np.empty((3,3)))\n",
    "\n",
    "# 10-19 的数据，2步长\n",
    "np.arange(10,20,2) "
   ]
  },
  {
   "cell_type": "code",
   "execution_count": 10,
   "metadata": {},
   "outputs": [
    {
     "name": "stdout",
     "output_type": "stream",
     "text": [
      "[[ 0  1  2  3]\n",
      " [ 4  5  6  7]\n",
      " [ 8  9 10 11]]\n",
      "[]\n"
     ]
    }
   ],
   "source": [
    "#reshape改变数据的形状\n",
    "print(np.arange(12).reshape((3,4)))\n",
    "\n",
    "\n",
    "#linspace 创建线段型数据:\n",
    "print(np.linspace(1,10,0))    # 开始端1，结束端10，且分割成20个数据，生成线段"
   ]
  },
  {
   "cell_type": "code",
   "execution_count": 81,
   "metadata": {},
   "outputs": [
    {
     "name": "stdout",
     "output_type": "stream",
     "text": [
      "[[1]\n",
      " [2]\n",
      " [3]] [4 5 6] \n",
      "\n",
      " [[5 6 7]\n",
      " [6 7 8]\n",
      " [7 8 9]] \n",
      "\n",
      " [[ 4  5  6]\n",
      " [ 8 10 12]\n",
      " [12 15 18]] \n",
      "\n",
      " [[1]\n",
      " [4]\n",
      " [9]]\n"
     ]
    }
   ],
   "source": [
    "a=np.array([1,2,3]).reshape((3,1))\n",
    "b=np.array([4,5,6])\n",
    "print(a,b,'\\n\\n',a+b,'\\n\\n',a*b,'\\n\\n',a**2)"
   ]
  },
  {
   "cell_type": "code",
   "execution_count": 97,
   "metadata": {},
   "outputs": [
    {
     "name": "stdout",
     "output_type": "stream",
     "text": [
      "32\n",
      "32\n",
      "0\n",
      "2\n",
      "2.0\n",
      "2.0\n"
     ]
    }
   ],
   "source": [
    "# \n",
    "a=np.array([1,2,3])\n",
    "b=np.array([4,5,6])\n",
    "print(np.dot(a,b))\n",
    "print(a.dot(b))\n",
    "np.sin(a)\n",
    "\n",
    "#np.sum(),min,max,当含义参数axis=0表示对列进行查找操作，=1时对行进行操作\n",
    "\n",
    "#最小元素索引\n",
    "print(np.argmin(a))\n",
    "#最大元素索引\n",
    "print(np.argmax(a))\n",
    "\n",
    "#计算均值\n",
    "print(np.mean(a))\n",
    "print(np.average(a))     \n",
    "\n",
    "\n"
   ]
  },
  {
   "cell_type": "code",
   "execution_count": 104,
   "metadata": {},
   "outputs": [
    {
     "name": "stdout",
     "output_type": "stream",
     "text": [
      "[[7 4]\n",
      " [6 3]\n",
      " [5 2]]\n",
      "[[7 4]\n",
      " [6 3]\n",
      " [5 2]]\n",
      "[[5 6 7]\n",
      " [2 3 4]]\n"
     ]
    }
   ],
   "source": [
    "a=np.arange(7,1,-1).reshape((2,3))\n",
    "b=np.arange(10,16,1).reshape((2,3))\n",
    "#矩阵的转置有两种方法transpose，T\n",
    "print(a.T)\n",
    "print(np.transpose(a))\n",
    "\n",
    "\n",
    "#排序，分别对每一行进行排序\n",
    "print(np.sort(a))    "
   ]
  },
  {
   "cell_type": "code",
   "execution_count": 13,
   "metadata": {},
   "outputs": [
    {
     "name": "stdout",
     "output_type": "stream",
     "text": [
      "[[1 1 1]\n",
      " [2 2 2]]\n",
      "[1 1 1 2 2 2]\n",
      "\n",
      "\n",
      "1111 (3,)\n",
      "(3,)\n",
      "(1, 3)\n",
      "[[1 1 1]]\n",
      "[[1]\n",
      " [1]\n",
      " [1]]\n",
      "[[1 1 1]\n",
      " [2 2 2]\n",
      " [2 2 2]\n",
      " [1 1 1]]\n",
      "[[1 1 1 2 2 2 2 2 2 1 1 1]]\n"
     ]
    }
   ],
   "source": [
    "#合并\n",
    "a = np.array([1,1,1])\n",
    "b = np.array([2,2,2])\n",
    "\n",
    "\n",
    "\n",
    "#垂直组合，上下合并。新增行\n",
    "print(np.vstack((a,b)))\n",
    "\n",
    "#左右合并\n",
    "print(np.hstack((a,b)))\n",
    "\n",
    "#加个array转换成矩阵\n",
    "c=a[np.newaxis,:]\n",
    "d=b[np.newaxis,:]\n",
    "\n",
    "print(\"\\n\\n1111\",a.shape)\n",
    "print(\"\\n\\n1111\",b.shape)\n",
    "\n",
    "\n",
    "\n",
    "print(c.shape)\n",
    "print(a[np.newaxis,:])\n",
    "print(a[:,np.newaxis])\n",
    "\n",
    "#concatenate当合并操作需要针对多个矩阵或序列时\n",
    "\n",
    "#axis=0,上下合并，（横向）\n",
    "print(np.concatenate((c,d,d,c),axis=0))\n",
    "#axis=1,左右合并（纵向）\n",
    "print(np.concatenate((c,d,d,c),axis=1))\n",
    "\n"
   ]
  },
  {
   "cell_type": "code",
   "execution_count": 123,
   "metadata": {},
   "outputs": [
    {
     "name": "stdout",
     "output_type": "stream",
     "text": [
      "[[ 0  1  2  3]\n",
      " [ 4  5  6  7]\n",
      " [ 8  9 10 11]]\n",
      "[array([[0, 1],\n",
      "       [4, 5],\n",
      "       [8, 9]]), array([[ 2,  3],\n",
      "       [ 6,  7],\n",
      "       [10, 11]])]\n",
      "[array([[0, 1, 2, 3]]), array([[4, 5, 6, 7]]), array([[ 8,  9, 10, 11]])]\n",
      "\n",
      " [array([[0, 1],\n",
      "       [4, 5],\n",
      "       [8, 9]]), array([[ 2],\n",
      "       [ 6],\n",
      "       [10]]), array([[ 3],\n",
      "       [ 7],\n",
      "       [11]])]\n"
     ]
    }
   ],
   "source": [
    "#分隔\n",
    "a=np.arange(12).reshape((3,4))\n",
    "print(a)\n",
    "\n",
    "#纵向分隔,等价(np.hsplit(a, 2)\n",
    "print(np.split(a,2,axis=1))\n",
    "\n",
    "#横向分隔，等价np.vsplit(a, 3)\n",
    "print(np.split(a,3,axis=0))\n",
    "\n",
    "#分隔是平均分隔的，只能等分，如写法np.split(a,3,axis=1)是错误的\n",
    "\n",
    "#如果处理不等量的分隔，使用array_split\n",
    "\n",
    "print('\\n',np.array_split(a,3,axis=1))"
   ]
  },
  {
   "cell_type": "code",
   "execution_count": null,
   "metadata": {
    "collapsed": true
   },
   "outputs": [],
   "source": [
    "#=赋值时浅copy。copy是深层copy"
   ]
  },
  {
   "cell_type": "code",
   "execution_count": null,
   "metadata": {
    "collapsed": true
   },
   "outputs": [],
   "source": []
  }
 ],
 "metadata": {
  "kernelspec": {
   "display_name": "Python 3",
   "language": "python",
   "name": "python3"
  },
  "language_info": {
   "codemirror_mode": {
    "name": "ipython",
    "version": 3
   },
   "file_extension": ".py",
   "mimetype": "text/x-python",
   "name": "python",
   "nbconvert_exporter": "python",
   "pygments_lexer": "ipython3",
   "version": "3.6.6"
  }
 },
 "nbformat": 4,
 "nbformat_minor": 2
}
